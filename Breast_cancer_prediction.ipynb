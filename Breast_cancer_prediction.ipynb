{
  "nbformat": 4,
  "nbformat_minor": 0,
  "metadata": {
    "colab": {
      "provenance": [],
      "authorship_tag": "ABX9TyNjfiv+5+sLqHq3qEE9AuEJ",
      "include_colab_link": true
    },
    "kernelspec": {
      "name": "python3",
      "display_name": "Python 3"
    },
    "language_info": {
      "name": "python"
    }
  },
  "cells": [
    {
      "cell_type": "markdown",
      "metadata": {
        "id": "view-in-github",
        "colab_type": "text"
      },
      "source": [
        "<a href=\"https://colab.research.google.com/github/amrutha-m-sajeev/Machine-learning-using-Navie-Bayes-Algorithm/blob/main/Breast_cancer_prediction.ipynb\" target=\"_parent\"><img src=\"https://colab.research.google.com/assets/colab-badge.svg\" alt=\"Open In Colab\"/></a>"
      ]
    },
    {
      "cell_type": "code",
      "execution_count": 1,
      "metadata": {
        "colab": {
          "base_uri": "https://localhost:8080/",
          "height": 424
        },
        "id": "ooCtHa8wba6F",
        "outputId": "367d78e8-00ee-4fc6-ede8-b6e7d48993d7"
      },
      "outputs": [
        {
          "output_type": "execute_result",
          "data": {
            "text/plain": [
              "     mean_radius  mean_texture  mean_perimeter  mean_area  mean_smoothness  \\\n",
              "0          17.99         10.38          122.80     1001.0          0.11840   \n",
              "1          20.57         17.77          132.90     1326.0          0.08474   \n",
              "2          19.69         21.25          130.00     1203.0          0.10960   \n",
              "3          11.42         20.38           77.58      386.1          0.14250   \n",
              "4          20.29         14.34          135.10     1297.0          0.10030   \n",
              "..           ...           ...             ...        ...              ...   \n",
              "564        21.56         22.39          142.00     1479.0          0.11100   \n",
              "565        20.13         28.25          131.20     1261.0          0.09780   \n",
              "566        16.60         28.08          108.30      858.1          0.08455   \n",
              "567        20.60         29.33          140.10     1265.0          0.11780   \n",
              "568         7.76         24.54           47.92      181.0          0.05263   \n",
              "\n",
              "     diagnosis  \n",
              "0            0  \n",
              "1            0  \n",
              "2            0  \n",
              "3            0  \n",
              "4            0  \n",
              "..         ...  \n",
              "564          0  \n",
              "565          0  \n",
              "566          0  \n",
              "567          0  \n",
              "568          1  \n",
              "\n",
              "[569 rows x 6 columns]"
            ],
            "text/html": [
              "\n",
              "  <div id=\"df-965e073d-74bf-49d8-9df7-a7fd6f6399db\">\n",
              "    <div class=\"colab-df-container\">\n",
              "      <div>\n",
              "<style scoped>\n",
              "    .dataframe tbody tr th:only-of-type {\n",
              "        vertical-align: middle;\n",
              "    }\n",
              "\n",
              "    .dataframe tbody tr th {\n",
              "        vertical-align: top;\n",
              "    }\n",
              "\n",
              "    .dataframe thead th {\n",
              "        text-align: right;\n",
              "    }\n",
              "</style>\n",
              "<table border=\"1\" class=\"dataframe\">\n",
              "  <thead>\n",
              "    <tr style=\"text-align: right;\">\n",
              "      <th></th>\n",
              "      <th>mean_radius</th>\n",
              "      <th>mean_texture</th>\n",
              "      <th>mean_perimeter</th>\n",
              "      <th>mean_area</th>\n",
              "      <th>mean_smoothness</th>\n",
              "      <th>diagnosis</th>\n",
              "    </tr>\n",
              "  </thead>\n",
              "  <tbody>\n",
              "    <tr>\n",
              "      <th>0</th>\n",
              "      <td>17.99</td>\n",
              "      <td>10.38</td>\n",
              "      <td>122.80</td>\n",
              "      <td>1001.0</td>\n",
              "      <td>0.11840</td>\n",
              "      <td>0</td>\n",
              "    </tr>\n",
              "    <tr>\n",
              "      <th>1</th>\n",
              "      <td>20.57</td>\n",
              "      <td>17.77</td>\n",
              "      <td>132.90</td>\n",
              "      <td>1326.0</td>\n",
              "      <td>0.08474</td>\n",
              "      <td>0</td>\n",
              "    </tr>\n",
              "    <tr>\n",
              "      <th>2</th>\n",
              "      <td>19.69</td>\n",
              "      <td>21.25</td>\n",
              "      <td>130.00</td>\n",
              "      <td>1203.0</td>\n",
              "      <td>0.10960</td>\n",
              "      <td>0</td>\n",
              "    </tr>\n",
              "    <tr>\n",
              "      <th>3</th>\n",
              "      <td>11.42</td>\n",
              "      <td>20.38</td>\n",
              "      <td>77.58</td>\n",
              "      <td>386.1</td>\n",
              "      <td>0.14250</td>\n",
              "      <td>0</td>\n",
              "    </tr>\n",
              "    <tr>\n",
              "      <th>4</th>\n",
              "      <td>20.29</td>\n",
              "      <td>14.34</td>\n",
              "      <td>135.10</td>\n",
              "      <td>1297.0</td>\n",
              "      <td>0.10030</td>\n",
              "      <td>0</td>\n",
              "    </tr>\n",
              "    <tr>\n",
              "      <th>...</th>\n",
              "      <td>...</td>\n",
              "      <td>...</td>\n",
              "      <td>...</td>\n",
              "      <td>...</td>\n",
              "      <td>...</td>\n",
              "      <td>...</td>\n",
              "    </tr>\n",
              "    <tr>\n",
              "      <th>564</th>\n",
              "      <td>21.56</td>\n",
              "      <td>22.39</td>\n",
              "      <td>142.00</td>\n",
              "      <td>1479.0</td>\n",
              "      <td>0.11100</td>\n",
              "      <td>0</td>\n",
              "    </tr>\n",
              "    <tr>\n",
              "      <th>565</th>\n",
              "      <td>20.13</td>\n",
              "      <td>28.25</td>\n",
              "      <td>131.20</td>\n",
              "      <td>1261.0</td>\n",
              "      <td>0.09780</td>\n",
              "      <td>0</td>\n",
              "    </tr>\n",
              "    <tr>\n",
              "      <th>566</th>\n",
              "      <td>16.60</td>\n",
              "      <td>28.08</td>\n",
              "      <td>108.30</td>\n",
              "      <td>858.1</td>\n",
              "      <td>0.08455</td>\n",
              "      <td>0</td>\n",
              "    </tr>\n",
              "    <tr>\n",
              "      <th>567</th>\n",
              "      <td>20.60</td>\n",
              "      <td>29.33</td>\n",
              "      <td>140.10</td>\n",
              "      <td>1265.0</td>\n",
              "      <td>0.11780</td>\n",
              "      <td>0</td>\n",
              "    </tr>\n",
              "    <tr>\n",
              "      <th>568</th>\n",
              "      <td>7.76</td>\n",
              "      <td>24.54</td>\n",
              "      <td>47.92</td>\n",
              "      <td>181.0</td>\n",
              "      <td>0.05263</td>\n",
              "      <td>1</td>\n",
              "    </tr>\n",
              "  </tbody>\n",
              "</table>\n",
              "<p>569 rows × 6 columns</p>\n",
              "</div>\n",
              "      <button class=\"colab-df-convert\" onclick=\"convertToInteractive('df-965e073d-74bf-49d8-9df7-a7fd6f6399db')\"\n",
              "              title=\"Convert this dataframe to an interactive table.\"\n",
              "              style=\"display:none;\">\n",
              "        \n",
              "  <svg xmlns=\"http://www.w3.org/2000/svg\" height=\"24px\"viewBox=\"0 0 24 24\"\n",
              "       width=\"24px\">\n",
              "    <path d=\"M0 0h24v24H0V0z\" fill=\"none\"/>\n",
              "    <path d=\"M18.56 5.44l.94 2.06.94-2.06 2.06-.94-2.06-.94-.94-2.06-.94 2.06-2.06.94zm-11 1L8.5 8.5l.94-2.06 2.06-.94-2.06-.94L8.5 2.5l-.94 2.06-2.06.94zm10 10l.94 2.06.94-2.06 2.06-.94-2.06-.94-.94-2.06-.94 2.06-2.06.94z\"/><path d=\"M17.41 7.96l-1.37-1.37c-.4-.4-.92-.59-1.43-.59-.52 0-1.04.2-1.43.59L10.3 9.45l-7.72 7.72c-.78.78-.78 2.05 0 2.83L4 21.41c.39.39.9.59 1.41.59.51 0 1.02-.2 1.41-.59l7.78-7.78 2.81-2.81c.8-.78.8-2.07 0-2.86zM5.41 20L4 18.59l7.72-7.72 1.47 1.35L5.41 20z\"/>\n",
              "  </svg>\n",
              "      </button>\n",
              "      \n",
              "  <style>\n",
              "    .colab-df-container {\n",
              "      display:flex;\n",
              "      flex-wrap:wrap;\n",
              "      gap: 12px;\n",
              "    }\n",
              "\n",
              "    .colab-df-convert {\n",
              "      background-color: #E8F0FE;\n",
              "      border: none;\n",
              "      border-radius: 50%;\n",
              "      cursor: pointer;\n",
              "      display: none;\n",
              "      fill: #1967D2;\n",
              "      height: 32px;\n",
              "      padding: 0 0 0 0;\n",
              "      width: 32px;\n",
              "    }\n",
              "\n",
              "    .colab-df-convert:hover {\n",
              "      background-color: #E2EBFA;\n",
              "      box-shadow: 0px 1px 2px rgba(60, 64, 67, 0.3), 0px 1px 3px 1px rgba(60, 64, 67, 0.15);\n",
              "      fill: #174EA6;\n",
              "    }\n",
              "\n",
              "    [theme=dark] .colab-df-convert {\n",
              "      background-color: #3B4455;\n",
              "      fill: #D2E3FC;\n",
              "    }\n",
              "\n",
              "    [theme=dark] .colab-df-convert:hover {\n",
              "      background-color: #434B5C;\n",
              "      box-shadow: 0px 1px 3px 1px rgba(0, 0, 0, 0.15);\n",
              "      filter: drop-shadow(0px 1px 2px rgba(0, 0, 0, 0.3));\n",
              "      fill: #FFFFFF;\n",
              "    }\n",
              "  </style>\n",
              "\n",
              "      <script>\n",
              "        const buttonEl =\n",
              "          document.querySelector('#df-965e073d-74bf-49d8-9df7-a7fd6f6399db button.colab-df-convert');\n",
              "        buttonEl.style.display =\n",
              "          google.colab.kernel.accessAllowed ? 'block' : 'none';\n",
              "\n",
              "        async function convertToInteractive(key) {\n",
              "          const element = document.querySelector('#df-965e073d-74bf-49d8-9df7-a7fd6f6399db');\n",
              "          const dataTable =\n",
              "            await google.colab.kernel.invokeFunction('convertToInteractive',\n",
              "                                                     [key], {});\n",
              "          if (!dataTable) return;\n",
              "\n",
              "          const docLinkHtml = 'Like what you see? Visit the ' +\n",
              "            '<a target=\"_blank\" href=https://colab.research.google.com/notebooks/data_table.ipynb>data table notebook</a>'\n",
              "            + ' to learn more about interactive tables.';\n",
              "          element.innerHTML = '';\n",
              "          dataTable['output_type'] = 'display_data';\n",
              "          await google.colab.output.renderOutput(dataTable, element);\n",
              "          const docLink = document.createElement('div');\n",
              "          docLink.innerHTML = docLinkHtml;\n",
              "          element.appendChild(docLink);\n",
              "        }\n",
              "      </script>\n",
              "    </div>\n",
              "  </div>\n",
              "  "
            ]
          },
          "metadata": {},
          "execution_count": 1
        }
      ],
      "source": [
        "import numpy as np\n",
        "import pandas as pd\n",
        "df=pd.read_csv('/content/Breast_cancer_data.csv')\n",
        "df"
      ]
    },
    {
      "cell_type": "code",
      "source": [
        "df.head()"
      ],
      "metadata": {
        "colab": {
          "base_uri": "https://localhost:8080/",
          "height": 206
        },
        "id": "MTjGs9MZc1Rk",
        "outputId": "3e77e94e-e44c-4b73-8001-c861e8baab0a"
      },
      "execution_count": 2,
      "outputs": [
        {
          "output_type": "execute_result",
          "data": {
            "text/plain": [
              "   mean_radius  mean_texture  mean_perimeter  mean_area  mean_smoothness  \\\n",
              "0        17.99         10.38          122.80     1001.0          0.11840   \n",
              "1        20.57         17.77          132.90     1326.0          0.08474   \n",
              "2        19.69         21.25          130.00     1203.0          0.10960   \n",
              "3        11.42         20.38           77.58      386.1          0.14250   \n",
              "4        20.29         14.34          135.10     1297.0          0.10030   \n",
              "\n",
              "   diagnosis  \n",
              "0          0  \n",
              "1          0  \n",
              "2          0  \n",
              "3          0  \n",
              "4          0  "
            ],
            "text/html": [
              "\n",
              "  <div id=\"df-41b2df02-b0ca-4116-a573-293c5c4d354e\">\n",
              "    <div class=\"colab-df-container\">\n",
              "      <div>\n",
              "<style scoped>\n",
              "    .dataframe tbody tr th:only-of-type {\n",
              "        vertical-align: middle;\n",
              "    }\n",
              "\n",
              "    .dataframe tbody tr th {\n",
              "        vertical-align: top;\n",
              "    }\n",
              "\n",
              "    .dataframe thead th {\n",
              "        text-align: right;\n",
              "    }\n",
              "</style>\n",
              "<table border=\"1\" class=\"dataframe\">\n",
              "  <thead>\n",
              "    <tr style=\"text-align: right;\">\n",
              "      <th></th>\n",
              "      <th>mean_radius</th>\n",
              "      <th>mean_texture</th>\n",
              "      <th>mean_perimeter</th>\n",
              "      <th>mean_area</th>\n",
              "      <th>mean_smoothness</th>\n",
              "      <th>diagnosis</th>\n",
              "    </tr>\n",
              "  </thead>\n",
              "  <tbody>\n",
              "    <tr>\n",
              "      <th>0</th>\n",
              "      <td>17.99</td>\n",
              "      <td>10.38</td>\n",
              "      <td>122.80</td>\n",
              "      <td>1001.0</td>\n",
              "      <td>0.11840</td>\n",
              "      <td>0</td>\n",
              "    </tr>\n",
              "    <tr>\n",
              "      <th>1</th>\n",
              "      <td>20.57</td>\n",
              "      <td>17.77</td>\n",
              "      <td>132.90</td>\n",
              "      <td>1326.0</td>\n",
              "      <td>0.08474</td>\n",
              "      <td>0</td>\n",
              "    </tr>\n",
              "    <tr>\n",
              "      <th>2</th>\n",
              "      <td>19.69</td>\n",
              "      <td>21.25</td>\n",
              "      <td>130.00</td>\n",
              "      <td>1203.0</td>\n",
              "      <td>0.10960</td>\n",
              "      <td>0</td>\n",
              "    </tr>\n",
              "    <tr>\n",
              "      <th>3</th>\n",
              "      <td>11.42</td>\n",
              "      <td>20.38</td>\n",
              "      <td>77.58</td>\n",
              "      <td>386.1</td>\n",
              "      <td>0.14250</td>\n",
              "      <td>0</td>\n",
              "    </tr>\n",
              "    <tr>\n",
              "      <th>4</th>\n",
              "      <td>20.29</td>\n",
              "      <td>14.34</td>\n",
              "      <td>135.10</td>\n",
              "      <td>1297.0</td>\n",
              "      <td>0.10030</td>\n",
              "      <td>0</td>\n",
              "    </tr>\n",
              "  </tbody>\n",
              "</table>\n",
              "</div>\n",
              "      <button class=\"colab-df-convert\" onclick=\"convertToInteractive('df-41b2df02-b0ca-4116-a573-293c5c4d354e')\"\n",
              "              title=\"Convert this dataframe to an interactive table.\"\n",
              "              style=\"display:none;\">\n",
              "        \n",
              "  <svg xmlns=\"http://www.w3.org/2000/svg\" height=\"24px\"viewBox=\"0 0 24 24\"\n",
              "       width=\"24px\">\n",
              "    <path d=\"M0 0h24v24H0V0z\" fill=\"none\"/>\n",
              "    <path d=\"M18.56 5.44l.94 2.06.94-2.06 2.06-.94-2.06-.94-.94-2.06-.94 2.06-2.06.94zm-11 1L8.5 8.5l.94-2.06 2.06-.94-2.06-.94L8.5 2.5l-.94 2.06-2.06.94zm10 10l.94 2.06.94-2.06 2.06-.94-2.06-.94-.94-2.06-.94 2.06-2.06.94z\"/><path d=\"M17.41 7.96l-1.37-1.37c-.4-.4-.92-.59-1.43-.59-.52 0-1.04.2-1.43.59L10.3 9.45l-7.72 7.72c-.78.78-.78 2.05 0 2.83L4 21.41c.39.39.9.59 1.41.59.51 0 1.02-.2 1.41-.59l7.78-7.78 2.81-2.81c.8-.78.8-2.07 0-2.86zM5.41 20L4 18.59l7.72-7.72 1.47 1.35L5.41 20z\"/>\n",
              "  </svg>\n",
              "      </button>\n",
              "      \n",
              "  <style>\n",
              "    .colab-df-container {\n",
              "      display:flex;\n",
              "      flex-wrap:wrap;\n",
              "      gap: 12px;\n",
              "    }\n",
              "\n",
              "    .colab-df-convert {\n",
              "      background-color: #E8F0FE;\n",
              "      border: none;\n",
              "      border-radius: 50%;\n",
              "      cursor: pointer;\n",
              "      display: none;\n",
              "      fill: #1967D2;\n",
              "      height: 32px;\n",
              "      padding: 0 0 0 0;\n",
              "      width: 32px;\n",
              "    }\n",
              "\n",
              "    .colab-df-convert:hover {\n",
              "      background-color: #E2EBFA;\n",
              "      box-shadow: 0px 1px 2px rgba(60, 64, 67, 0.3), 0px 1px 3px 1px rgba(60, 64, 67, 0.15);\n",
              "      fill: #174EA6;\n",
              "    }\n",
              "\n",
              "    [theme=dark] .colab-df-convert {\n",
              "      background-color: #3B4455;\n",
              "      fill: #D2E3FC;\n",
              "    }\n",
              "\n",
              "    [theme=dark] .colab-df-convert:hover {\n",
              "      background-color: #434B5C;\n",
              "      box-shadow: 0px 1px 3px 1px rgba(0, 0, 0, 0.15);\n",
              "      filter: drop-shadow(0px 1px 2px rgba(0, 0, 0, 0.3));\n",
              "      fill: #FFFFFF;\n",
              "    }\n",
              "  </style>\n",
              "\n",
              "      <script>\n",
              "        const buttonEl =\n",
              "          document.querySelector('#df-41b2df02-b0ca-4116-a573-293c5c4d354e button.colab-df-convert');\n",
              "        buttonEl.style.display =\n",
              "          google.colab.kernel.accessAllowed ? 'block' : 'none';\n",
              "\n",
              "        async function convertToInteractive(key) {\n",
              "          const element = document.querySelector('#df-41b2df02-b0ca-4116-a573-293c5c4d354e');\n",
              "          const dataTable =\n",
              "            await google.colab.kernel.invokeFunction('convertToInteractive',\n",
              "                                                     [key], {});\n",
              "          if (!dataTable) return;\n",
              "\n",
              "          const docLinkHtml = 'Like what you see? Visit the ' +\n",
              "            '<a target=\"_blank\" href=https://colab.research.google.com/notebooks/data_table.ipynb>data table notebook</a>'\n",
              "            + ' to learn more about interactive tables.';\n",
              "          element.innerHTML = '';\n",
              "          dataTable['output_type'] = 'display_data';\n",
              "          await google.colab.output.renderOutput(dataTable, element);\n",
              "          const docLink = document.createElement('div');\n",
              "          docLink.innerHTML = docLinkHtml;\n",
              "          element.appendChild(docLink);\n",
              "        }\n",
              "      </script>\n",
              "    </div>\n",
              "  </div>\n",
              "  "
            ]
          },
          "metadata": {},
          "execution_count": 2
        }
      ]
    },
    {
      "cell_type": "code",
      "source": [
        "df.tail()"
      ],
      "metadata": {
        "colab": {
          "base_uri": "https://localhost:8080/",
          "height": 206
        },
        "id": "PZo4sVffc3fx",
        "outputId": "ba00ee79-767e-406a-de13-a6c496acb522"
      },
      "execution_count": 3,
      "outputs": [
        {
          "output_type": "execute_result",
          "data": {
            "text/plain": [
              "     mean_radius  mean_texture  mean_perimeter  mean_area  mean_smoothness  \\\n",
              "564        21.56         22.39          142.00     1479.0          0.11100   \n",
              "565        20.13         28.25          131.20     1261.0          0.09780   \n",
              "566        16.60         28.08          108.30      858.1          0.08455   \n",
              "567        20.60         29.33          140.10     1265.0          0.11780   \n",
              "568         7.76         24.54           47.92      181.0          0.05263   \n",
              "\n",
              "     diagnosis  \n",
              "564          0  \n",
              "565          0  \n",
              "566          0  \n",
              "567          0  \n",
              "568          1  "
            ],
            "text/html": [
              "\n",
              "  <div id=\"df-5d8942d8-f8b6-4ff0-b262-29c6a9eac4f2\">\n",
              "    <div class=\"colab-df-container\">\n",
              "      <div>\n",
              "<style scoped>\n",
              "    .dataframe tbody tr th:only-of-type {\n",
              "        vertical-align: middle;\n",
              "    }\n",
              "\n",
              "    .dataframe tbody tr th {\n",
              "        vertical-align: top;\n",
              "    }\n",
              "\n",
              "    .dataframe thead th {\n",
              "        text-align: right;\n",
              "    }\n",
              "</style>\n",
              "<table border=\"1\" class=\"dataframe\">\n",
              "  <thead>\n",
              "    <tr style=\"text-align: right;\">\n",
              "      <th></th>\n",
              "      <th>mean_radius</th>\n",
              "      <th>mean_texture</th>\n",
              "      <th>mean_perimeter</th>\n",
              "      <th>mean_area</th>\n",
              "      <th>mean_smoothness</th>\n",
              "      <th>diagnosis</th>\n",
              "    </tr>\n",
              "  </thead>\n",
              "  <tbody>\n",
              "    <tr>\n",
              "      <th>564</th>\n",
              "      <td>21.56</td>\n",
              "      <td>22.39</td>\n",
              "      <td>142.00</td>\n",
              "      <td>1479.0</td>\n",
              "      <td>0.11100</td>\n",
              "      <td>0</td>\n",
              "    </tr>\n",
              "    <tr>\n",
              "      <th>565</th>\n",
              "      <td>20.13</td>\n",
              "      <td>28.25</td>\n",
              "      <td>131.20</td>\n",
              "      <td>1261.0</td>\n",
              "      <td>0.09780</td>\n",
              "      <td>0</td>\n",
              "    </tr>\n",
              "    <tr>\n",
              "      <th>566</th>\n",
              "      <td>16.60</td>\n",
              "      <td>28.08</td>\n",
              "      <td>108.30</td>\n",
              "      <td>858.1</td>\n",
              "      <td>0.08455</td>\n",
              "      <td>0</td>\n",
              "    </tr>\n",
              "    <tr>\n",
              "      <th>567</th>\n",
              "      <td>20.60</td>\n",
              "      <td>29.33</td>\n",
              "      <td>140.10</td>\n",
              "      <td>1265.0</td>\n",
              "      <td>0.11780</td>\n",
              "      <td>0</td>\n",
              "    </tr>\n",
              "    <tr>\n",
              "      <th>568</th>\n",
              "      <td>7.76</td>\n",
              "      <td>24.54</td>\n",
              "      <td>47.92</td>\n",
              "      <td>181.0</td>\n",
              "      <td>0.05263</td>\n",
              "      <td>1</td>\n",
              "    </tr>\n",
              "  </tbody>\n",
              "</table>\n",
              "</div>\n",
              "      <button class=\"colab-df-convert\" onclick=\"convertToInteractive('df-5d8942d8-f8b6-4ff0-b262-29c6a9eac4f2')\"\n",
              "              title=\"Convert this dataframe to an interactive table.\"\n",
              "              style=\"display:none;\">\n",
              "        \n",
              "  <svg xmlns=\"http://www.w3.org/2000/svg\" height=\"24px\"viewBox=\"0 0 24 24\"\n",
              "       width=\"24px\">\n",
              "    <path d=\"M0 0h24v24H0V0z\" fill=\"none\"/>\n",
              "    <path d=\"M18.56 5.44l.94 2.06.94-2.06 2.06-.94-2.06-.94-.94-2.06-.94 2.06-2.06.94zm-11 1L8.5 8.5l.94-2.06 2.06-.94-2.06-.94L8.5 2.5l-.94 2.06-2.06.94zm10 10l.94 2.06.94-2.06 2.06-.94-2.06-.94-.94-2.06-.94 2.06-2.06.94z\"/><path d=\"M17.41 7.96l-1.37-1.37c-.4-.4-.92-.59-1.43-.59-.52 0-1.04.2-1.43.59L10.3 9.45l-7.72 7.72c-.78.78-.78 2.05 0 2.83L4 21.41c.39.39.9.59 1.41.59.51 0 1.02-.2 1.41-.59l7.78-7.78 2.81-2.81c.8-.78.8-2.07 0-2.86zM5.41 20L4 18.59l7.72-7.72 1.47 1.35L5.41 20z\"/>\n",
              "  </svg>\n",
              "      </button>\n",
              "      \n",
              "  <style>\n",
              "    .colab-df-container {\n",
              "      display:flex;\n",
              "      flex-wrap:wrap;\n",
              "      gap: 12px;\n",
              "    }\n",
              "\n",
              "    .colab-df-convert {\n",
              "      background-color: #E8F0FE;\n",
              "      border: none;\n",
              "      border-radius: 50%;\n",
              "      cursor: pointer;\n",
              "      display: none;\n",
              "      fill: #1967D2;\n",
              "      height: 32px;\n",
              "      padding: 0 0 0 0;\n",
              "      width: 32px;\n",
              "    }\n",
              "\n",
              "    .colab-df-convert:hover {\n",
              "      background-color: #E2EBFA;\n",
              "      box-shadow: 0px 1px 2px rgba(60, 64, 67, 0.3), 0px 1px 3px 1px rgba(60, 64, 67, 0.15);\n",
              "      fill: #174EA6;\n",
              "    }\n",
              "\n",
              "    [theme=dark] .colab-df-convert {\n",
              "      background-color: #3B4455;\n",
              "      fill: #D2E3FC;\n",
              "    }\n",
              "\n",
              "    [theme=dark] .colab-df-convert:hover {\n",
              "      background-color: #434B5C;\n",
              "      box-shadow: 0px 1px 3px 1px rgba(0, 0, 0, 0.15);\n",
              "      filter: drop-shadow(0px 1px 2px rgba(0, 0, 0, 0.3));\n",
              "      fill: #FFFFFF;\n",
              "    }\n",
              "  </style>\n",
              "\n",
              "      <script>\n",
              "        const buttonEl =\n",
              "          document.querySelector('#df-5d8942d8-f8b6-4ff0-b262-29c6a9eac4f2 button.colab-df-convert');\n",
              "        buttonEl.style.display =\n",
              "          google.colab.kernel.accessAllowed ? 'block' : 'none';\n",
              "\n",
              "        async function convertToInteractive(key) {\n",
              "          const element = document.querySelector('#df-5d8942d8-f8b6-4ff0-b262-29c6a9eac4f2');\n",
              "          const dataTable =\n",
              "            await google.colab.kernel.invokeFunction('convertToInteractive',\n",
              "                                                     [key], {});\n",
              "          if (!dataTable) return;\n",
              "\n",
              "          const docLinkHtml = 'Like what you see? Visit the ' +\n",
              "            '<a target=\"_blank\" href=https://colab.research.google.com/notebooks/data_table.ipynb>data table notebook</a>'\n",
              "            + ' to learn more about interactive tables.';\n",
              "          element.innerHTML = '';\n",
              "          dataTable['output_type'] = 'display_data';\n",
              "          await google.colab.output.renderOutput(dataTable, element);\n",
              "          const docLink = document.createElement('div');\n",
              "          docLink.innerHTML = docLinkHtml;\n",
              "          element.appendChild(docLink);\n",
              "        }\n",
              "      </script>\n",
              "    </div>\n",
              "  </div>\n",
              "  "
            ]
          },
          "metadata": {},
          "execution_count": 3
        }
      ]
    },
    {
      "cell_type": "code",
      "source": [
        "df.columns"
      ],
      "metadata": {
        "colab": {
          "base_uri": "https://localhost:8080/"
        },
        "id": "cWDhhqFic3rJ",
        "outputId": "93a89bd5-f386-4d7b-8c79-b9bd4bf473e6"
      },
      "execution_count": 4,
      "outputs": [
        {
          "output_type": "execute_result",
          "data": {
            "text/plain": [
              "Index(['mean_radius', 'mean_texture', 'mean_perimeter', 'mean_area',\n",
              "       'mean_smoothness', 'diagnosis'],\n",
              "      dtype='object')"
            ]
          },
          "metadata": {},
          "execution_count": 4
        }
      ]
    },
    {
      "cell_type": "code",
      "source": [
        "df.isna().sum()"
      ],
      "metadata": {
        "colab": {
          "base_uri": "https://localhost:8080/"
        },
        "id": "8uVr2VF5c32I",
        "outputId": "79db856b-58d5-4fb0-bf38-a9bfd49df95f"
      },
      "execution_count": 5,
      "outputs": [
        {
          "output_type": "execute_result",
          "data": {
            "text/plain": [
              "mean_radius        0\n",
              "mean_texture       0\n",
              "mean_perimeter     0\n",
              "mean_area          0\n",
              "mean_smoothness    0\n",
              "diagnosis          0\n",
              "dtype: int64"
            ]
          },
          "metadata": {},
          "execution_count": 5
        }
      ]
    },
    {
      "cell_type": "code",
      "source": [
        "df.info()"
      ],
      "metadata": {
        "colab": {
          "base_uri": "https://localhost:8080/"
        },
        "id": "_0OuTRnGc4BH",
        "outputId": "22027aa5-1926-4f15-cbbd-67fe4cd9d8ac"
      },
      "execution_count": 6,
      "outputs": [
        {
          "output_type": "stream",
          "name": "stdout",
          "text": [
            "<class 'pandas.core.frame.DataFrame'>\n",
            "RangeIndex: 569 entries, 0 to 568\n",
            "Data columns (total 6 columns):\n",
            " #   Column           Non-Null Count  Dtype  \n",
            "---  ------           --------------  -----  \n",
            " 0   mean_radius      569 non-null    float64\n",
            " 1   mean_texture     569 non-null    float64\n",
            " 2   mean_perimeter   569 non-null    float64\n",
            " 3   mean_area        569 non-null    float64\n",
            " 4   mean_smoothness  569 non-null    float64\n",
            " 5   diagnosis        569 non-null    int64  \n",
            "dtypes: float64(5), int64(1)\n",
            "memory usage: 26.8 KB\n"
          ]
        }
      ]
    },
    {
      "cell_type": "code",
      "source": [
        "x=df.iloc[:,:-1].values\n",
        "x"
      ],
      "metadata": {
        "colab": {
          "base_uri": "https://localhost:8080/"
        },
        "id": "uY0Yn7Joc4Lh",
        "outputId": "8d4c6ace-c8f4-450c-fc0a-d1509ed2bf6d"
      },
      "execution_count": 10,
      "outputs": [
        {
          "output_type": "execute_result",
          "data": {
            "text/plain": [
              "array([[1.799e+01, 1.038e+01, 1.228e+02, 1.001e+03, 1.184e-01],\n",
              "       [2.057e+01, 1.777e+01, 1.329e+02, 1.326e+03, 8.474e-02],\n",
              "       [1.969e+01, 2.125e+01, 1.300e+02, 1.203e+03, 1.096e-01],\n",
              "       ...,\n",
              "       [1.660e+01, 2.808e+01, 1.083e+02, 8.581e+02, 8.455e-02],\n",
              "       [2.060e+01, 2.933e+01, 1.401e+02, 1.265e+03, 1.178e-01],\n",
              "       [7.760e+00, 2.454e+01, 4.792e+01, 1.810e+02, 5.263e-02]])"
            ]
          },
          "metadata": {},
          "execution_count": 10
        }
      ]
    },
    {
      "cell_type": "code",
      "source": [
        "y=df.iloc[:,-1].values\n",
        "y"
      ],
      "metadata": {
        "colab": {
          "base_uri": "https://localhost:8080/"
        },
        "id": "GSb-tuVMdJfs",
        "outputId": "8cebaffb-5260-44de-81f8-7466c9e8d6b2"
      },
      "execution_count": 14,
      "outputs": [
        {
          "output_type": "execute_result",
          "data": {
            "text/plain": [
              "array([0, 0, 0, 0, 0, 0, 0, 0, 0, 0, 0, 0, 0, 0, 0, 0, 0, 0, 0, 1, 1, 1,\n",
              "       0, 0, 0, 0, 0, 0, 0, 0, 0, 0, 0, 0, 0, 0, 0, 1, 0, 0, 0, 0, 0, 0,\n",
              "       0, 0, 1, 0, 1, 1, 1, 1, 1, 0, 0, 1, 0, 0, 1, 1, 1, 1, 0, 1, 0, 0,\n",
              "       1, 1, 1, 1, 0, 1, 0, 0, 1, 0, 1, 0, 0, 1, 1, 1, 0, 0, 1, 0, 0, 0,\n",
              "       1, 1, 1, 0, 1, 1, 0, 0, 1, 1, 1, 0, 0, 1, 1, 1, 1, 0, 1, 1, 0, 1,\n",
              "       1, 1, 1, 1, 1, 1, 1, 0, 0, 0, 1, 0, 0, 1, 1, 1, 0, 0, 1, 0, 1, 0,\n",
              "       0, 1, 0, 0, 1, 1, 0, 1, 1, 0, 1, 1, 1, 1, 0, 1, 1, 1, 1, 1, 1, 1,\n",
              "       1, 1, 0, 1, 1, 1, 1, 0, 0, 1, 0, 1, 1, 0, 0, 1, 1, 0, 0, 1, 1, 1,\n",
              "       1, 0, 1, 1, 0, 0, 0, 1, 0, 1, 0, 1, 1, 1, 0, 1, 1, 0, 0, 1, 0, 0,\n",
              "       0, 0, 1, 0, 0, 0, 1, 0, 1, 0, 1, 1, 0, 1, 0, 0, 0, 0, 1, 1, 0, 0,\n",
              "       1, 1, 1, 0, 1, 1, 1, 1, 1, 0, 0, 1, 1, 0, 1, 1, 0, 0, 1, 0, 1, 1,\n",
              "       1, 1, 0, 1, 1, 1, 1, 1, 0, 1, 0, 0, 0, 0, 0, 0, 0, 0, 0, 0, 0, 0,\n",
              "       0, 0, 1, 1, 1, 1, 1, 1, 0, 1, 0, 1, 1, 0, 1, 1, 0, 1, 0, 0, 1, 1,\n",
              "       1, 1, 1, 1, 1, 1, 1, 1, 1, 1, 1, 0, 1, 1, 0, 1, 0, 1, 1, 1, 1, 1,\n",
              "       1, 1, 1, 1, 1, 1, 1, 1, 1, 0, 1, 1, 1, 0, 1, 0, 1, 1, 1, 1, 0, 0,\n",
              "       0, 1, 1, 1, 1, 0, 1, 0, 1, 0, 1, 1, 1, 0, 1, 1, 1, 1, 1, 1, 1, 0,\n",
              "       0, 0, 1, 1, 1, 1, 1, 1, 1, 1, 1, 1, 1, 0, 0, 1, 0, 0, 0, 1, 0, 0,\n",
              "       1, 1, 1, 1, 1, 0, 1, 1, 1, 1, 1, 0, 1, 1, 1, 0, 1, 1, 0, 0, 1, 1,\n",
              "       1, 1, 1, 1, 0, 1, 1, 1, 1, 1, 1, 1, 0, 1, 1, 1, 1, 1, 0, 1, 1, 0,\n",
              "       1, 1, 1, 1, 1, 1, 1, 1, 1, 1, 1, 1, 0, 1, 0, 0, 1, 0, 1, 1, 1, 1,\n",
              "       1, 0, 1, 1, 0, 1, 0, 1, 1, 0, 1, 0, 1, 1, 1, 1, 1, 1, 1, 1, 0, 0,\n",
              "       1, 1, 1, 1, 1, 1, 0, 1, 1, 1, 1, 1, 1, 1, 1, 1, 1, 0, 1, 1, 1, 1,\n",
              "       1, 1, 1, 0, 1, 0, 1, 1, 0, 1, 1, 1, 1, 1, 0, 0, 1, 0, 1, 0, 1, 1,\n",
              "       1, 1, 1, 0, 1, 1, 0, 1, 0, 1, 0, 0, 1, 1, 1, 0, 1, 1, 1, 1, 1, 1,\n",
              "       1, 1, 1, 1, 1, 0, 1, 0, 0, 1, 1, 1, 1, 1, 1, 1, 1, 1, 1, 1, 1, 1,\n",
              "       1, 1, 1, 1, 1, 1, 1, 1, 1, 1, 1, 1, 0, 0, 0, 0, 0, 0, 1])"
            ]
          },
          "metadata": {},
          "execution_count": 14
        }
      ]
    },
    {
      "cell_type": "code",
      "source": [
        "x.ndim"
      ],
      "metadata": {
        "colab": {
          "base_uri": "https://localhost:8080/"
        },
        "id": "iTkZraoAdu3-",
        "outputId": "64debad8-3eab-46b6-e331-ced33413d487"
      },
      "execution_count": 12,
      "outputs": [
        {
          "output_type": "execute_result",
          "data": {
            "text/plain": [
              "2"
            ]
          },
          "metadata": {},
          "execution_count": 12
        }
      ]
    },
    {
      "cell_type": "code",
      "source": [
        "y.ndim"
      ],
      "metadata": {
        "colab": {
          "base_uri": "https://localhost:8080/"
        },
        "id": "sLpWnXzKd2Rj",
        "outputId": "8f2cf1f2-d2cf-4855-efcd-b5ae986246ef"
      },
      "execution_count": 15,
      "outputs": [
        {
          "output_type": "execute_result",
          "data": {
            "text/plain": [
              "1"
            ]
          },
          "metadata": {},
          "execution_count": 15
        }
      ]
    },
    {
      "cell_type": "code",
      "source": [
        "from sklearn.model_selection import train_test_split\n",
        "x_train,x_test,y_train,y_test=train_test_split(x,y,test_size=0.30,random_state=42)\n",
        "x_train"
      ],
      "metadata": {
        "colab": {
          "base_uri": "https://localhost:8080/"
        },
        "id": "6RPoq3MSearC",
        "outputId": "c9c34914-96d3-44eb-d410-6c847229d75a"
      },
      "execution_count": 16,
      "outputs": [
        {
          "output_type": "execute_result",
          "data": {
            "text/plain": [
              "array([[1.374e+01, 1.791e+01, 8.812e+01, 5.850e+02, 7.944e-02],\n",
              "       [1.337e+01, 1.639e+01, 8.610e+01, 5.535e+02, 7.115e-02],\n",
              "       [1.469e+01, 1.398e+01, 9.822e+01, 6.561e+02, 1.031e-01],\n",
              "       ...,\n",
              "       [1.429e+01, 1.682e+01, 9.030e+01, 6.326e+02, 6.429e-02],\n",
              "       [1.398e+01, 1.962e+01, 9.112e+01, 5.995e+02, 1.060e-01],\n",
              "       [1.218e+01, 2.052e+01, 7.722e+01, 4.587e+02, 8.013e-02]])"
            ]
          },
          "metadata": {},
          "execution_count": 16
        }
      ]
    },
    {
      "cell_type": "code",
      "source": [
        "x_test"
      ],
      "metadata": {
        "colab": {
          "base_uri": "https://localhost:8080/"
        },
        "id": "fe586UEJegjL",
        "outputId": "23c5da0b-c8d6-462f-f2e9-c8c6389f94e1"
      },
      "execution_count": 17,
      "outputs": [
        {
          "output_type": "execute_result",
          "data": {
            "text/plain": [
              "array([[1.247e+01, 1.860e+01, 8.109e+01, 4.819e+02, 9.965e-02],\n",
              "       [1.894e+01, 2.131e+01, 1.236e+02, 1.130e+03, 9.009e-02],\n",
              "       [1.546e+01, 1.948e+01, 1.017e+02, 7.489e+02, 1.092e-01],\n",
              "       [1.240e+01, 1.768e+01, 8.147e+01, 4.678e+02, 1.054e-01],\n",
              "       [1.154e+01, 1.444e+01, 7.465e+01, 4.029e+02, 9.984e-02],\n",
              "       [2.060e+01, 2.933e+01, 1.401e+02, 1.265e+03, 1.178e-01],\n",
              "       [2.201e+01, 2.190e+01, 1.472e+02, 1.482e+03, 1.063e-01],\n",
              "       [1.757e+01, 1.505e+01, 1.150e+02, 9.551e+02, 9.847e-02],\n",
              "       [1.334e+01, 1.586e+01, 8.649e+01, 5.200e+02, 1.078e-01],\n",
              "       [1.390e+01, 1.662e+01, 8.897e+01, 5.994e+02, 6.828e-02],\n",
              "       [1.321e+01, 2.525e+01, 8.410e+01, 5.379e+02, 8.791e-02],\n",
              "       [1.678e+01, 1.880e+01, 1.093e+02, 8.863e+02, 8.865e-02],\n",
              "       [1.497e+01, 1.976e+01, 9.550e+01, 6.902e+02, 8.421e-02],\n",
              "       [1.626e+01, 2.188e+01, 1.075e+02, 8.268e+02, 1.165e-01],\n",
              "       [1.234e+01, 1.227e+01, 7.894e+01, 4.685e+02, 9.003e-02],\n",
              "       [1.910e+01, 2.629e+01, 1.291e+02, 1.132e+03, 1.215e-01],\n",
              "       [1.481e+01, 1.470e+01, 9.466e+01, 6.807e+02, 8.472e-02],\n",
              "       [1.016e+01, 1.959e+01, 6.473e+01, 3.117e+02, 1.003e-01],\n",
              "       [6.981e+00, 1.343e+01, 4.379e+01, 1.435e+02, 1.170e-01],\n",
              "       [2.055e+01, 2.086e+01, 1.378e+02, 1.308e+03, 1.046e-01],\n",
              "       [1.380e+01, 1.579e+01, 9.043e+01, 5.841e+02, 1.007e-01],\n",
              "       [1.210e+01, 1.772e+01, 7.807e+01, 4.462e+02, 1.029e-01],\n",
              "       [2.161e+01, 2.228e+01, 1.444e+02, 1.407e+03, 1.167e-01],\n",
              "       [1.003e+01, 2.128e+01, 6.319e+01, 3.073e+02, 8.117e-02],\n",
              "       [1.160e+01, 2.449e+01, 7.423e+01, 4.172e+02, 7.474e-02],\n",
              "       [1.353e+01, 1.094e+01, 8.791e+01, 5.592e+02, 1.291e-01],\n",
              "       [1.328e+01, 1.372e+01, 8.579e+01, 5.418e+02, 8.363e-02],\n",
              "       [1.029e+01, 2.761e+01, 6.567e+01, 3.214e+02, 9.030e-02],\n",
              "       [1.276e+01, 1.884e+01, 8.187e+01, 4.966e+02, 9.676e-02],\n",
              "       [1.720e+01, 2.452e+01, 1.142e+02, 9.294e+02, 1.071e-01],\n",
              "       [1.113e+01, 2.244e+01, 7.149e+01, 3.784e+02, 9.566e-02],\n",
              "       [1.206e+01, 1.274e+01, 7.684e+01, 4.486e+02, 9.311e-02],\n",
              "       [9.742e+00, 1.912e+01, 6.193e+01, 2.897e+02, 1.075e-01],\n",
              "       [1.368e+01, 1.633e+01, 8.776e+01, 5.755e+02, 9.277e-02],\n",
              "       [1.018e+01, 1.753e+01, 6.512e+01, 3.131e+02, 1.061e-01],\n",
              "       [1.152e+01, 1.875e+01, 7.334e+01, 4.090e+02, 9.524e-02],\n",
              "       [1.602e+01, 2.324e+01, 1.027e+02, 7.978e+02, 8.206e-02],\n",
              "       [1.174e+01, 1.402e+01, 7.424e+01, 4.273e+02, 7.813e-02],\n",
              "       [1.825e+01, 1.998e+01, 1.196e+02, 1.040e+03, 9.463e-02],\n",
              "       [1.462e+01, 2.402e+01, 9.457e+01, 6.627e+02, 8.974e-02],\n",
              "       [1.049e+01, 1.929e+01, 6.741e+01, 3.361e+02, 9.989e-02],\n",
              "       [1.508e+01, 2.574e+01, 9.800e+01, 7.166e+02, 1.024e-01],\n",
              "       [1.161e+01, 1.602e+01, 7.546e+01, 4.082e+02, 1.088e-01],\n",
              "       [1.184e+01, 1.894e+01, 7.551e+01, 4.280e+02, 8.871e-02],\n",
              "       [1.189e+01, 1.736e+01, 7.620e+01, 4.356e+02, 1.225e-01],\n",
              "       [1.134e+01, 2.126e+01, 7.248e+01, 3.965e+02, 8.759e-02],\n",
              "       [9.295e+00, 1.390e+01, 5.996e+01, 2.578e+02, 1.371e-01],\n",
              "       [9.423e+00, 2.788e+01, 5.926e+01, 2.713e+02, 8.123e-02],\n",
              "       [1.167e+01, 2.002e+01, 7.521e+01, 4.162e+02, 1.016e-01],\n",
              "       [1.289e+01, 1.570e+01, 8.408e+01, 5.166e+02, 7.818e-02],\n",
              "       [1.719e+01, 2.207e+01, 1.116e+02, 9.283e+02, 9.726e-02],\n",
              "       [1.863e+01, 2.511e+01, 1.248e+02, 1.088e+03, 1.064e-01],\n",
              "       [1.311e+01, 2.254e+01, 8.702e+01, 5.294e+02, 1.002e-01],\n",
              "       [1.394e+01, 1.317e+01, 9.031e+01, 5.942e+02, 1.248e-01],\n",
              "       [1.190e+01, 1.465e+01, 7.811e+01, 4.328e+02, 1.152e-01],\n",
              "       [1.317e+01, 1.822e+01, 8.428e+01, 5.373e+02, 7.466e-02],\n",
              "       [1.025e+01, 1.618e+01, 6.652e+01, 3.242e+02, 1.061e-01],\n",
              "       [2.522e+01, 2.491e+01, 1.715e+02, 1.878e+03, 1.063e-01],\n",
              "       [1.348e+01, 2.082e+01, 8.840e+01, 5.592e+02, 1.016e-01],\n",
              "       [1.129e+01, 1.304e+01, 7.223e+01, 3.880e+02, 9.834e-02],\n",
              "       [1.286e+01, 1.800e+01, 8.319e+01, 5.063e+02, 9.934e-02],\n",
              "       [1.969e+01, 2.125e+01, 1.300e+02, 1.203e+03, 1.096e-01],\n",
              "       [2.156e+01, 2.239e+01, 1.420e+02, 1.479e+03, 1.110e-01],\n",
              "       [1.440e+01, 2.699e+01, 9.225e+01, 6.461e+02, 6.995e-02],\n",
              "       [1.230e+01, 1.902e+01, 7.788e+01, 4.644e+02, 8.313e-02],\n",
              "       [1.262e+01, 2.397e+01, 8.135e+01, 4.964e+02, 7.903e-02],\n",
              "       [1.578e+01, 2.291e+01, 1.057e+02, 7.826e+02, 1.155e-01],\n",
              "       [2.018e+01, 2.397e+01, 1.437e+02, 1.245e+03, 1.286e-01],\n",
              "       [1.181e+01, 1.739e+01, 7.527e+01, 4.289e+02, 1.007e-01],\n",
              "       [1.298e+01, 1.935e+01, 8.452e+01, 5.140e+02, 9.579e-02],\n",
              "       [1.377e+01, 2.229e+01, 9.063e+01, 5.889e+02, 1.200e-01],\n",
              "       [1.578e+01, 1.789e+01, 1.036e+02, 7.810e+02, 9.710e-02],\n",
              "       [1.406e+01, 1.718e+01, 8.975e+01, 6.091e+02, 8.045e-02],\n",
              "       [1.646e+01, 2.011e+01, 1.093e+02, 8.329e+02, 9.831e-02],\n",
              "       [7.729e+00, 2.549e+01, 4.798e+01, 1.788e+02, 8.098e-02],\n",
              "       [1.347e+01, 1.406e+01, 8.732e+01, 5.463e+02, 1.071e-01],\n",
              "       [1.403e+01, 2.125e+01, 8.979e+01, 6.034e+02, 9.070e-02],\n",
              "       [1.396e+01, 1.705e+01, 9.143e+01, 6.024e+02, 1.096e-01],\n",
              "       [1.075e+01, 1.497e+01, 6.826e+01, 3.553e+02, 7.793e-02],\n",
              "       [1.127e+01, 1.296e+01, 7.316e+01, 3.863e+02, 1.237e-01],\n",
              "       [1.616e+01, 2.154e+01, 1.062e+02, 8.098e+02, 1.008e-01],\n",
              "       [1.125e+01, 1.478e+01, 7.138e+01, 3.900e+02, 8.306e-02],\n",
              "       [1.448e+01, 2.146e+01, 9.425e+01, 6.482e+02, 9.444e-02],\n",
              "       [2.094e+01, 2.356e+01, 1.389e+02, 1.364e+03, 1.007e-01],\n",
              "       [1.793e+01, 2.448e+01, 1.152e+02, 9.989e+02, 8.855e-02],\n",
              "       [1.532e+01, 1.727e+01, 1.032e+02, 7.133e+02, 1.335e-01],\n",
              "       [1.246e+01, 2.404e+01, 8.397e+01, 4.759e+02, 1.186e-01],\n",
              "       [1.760e+01, 2.333e+01, 1.190e+02, 9.805e+02, 9.289e-02],\n",
              "       [1.205e+01, 2.272e+01, 7.875e+01, 4.478e+02, 6.935e-02],\n",
              "       [1.286e+01, 1.332e+01, 8.282e+01, 5.048e+02, 1.134e-01],\n",
              "       [1.200e+01, 1.565e+01, 7.695e+01, 4.433e+02, 9.723e-02],\n",
              "       [1.346e+01, 1.875e+01, 8.744e+01, 5.511e+02, 1.075e-01],\n",
              "       [1.504e+01, 1.674e+01, 9.873e+01, 6.894e+02, 9.883e-02],\n",
              "       [1.120e+01, 2.937e+01, 7.067e+01, 3.860e+02, 7.449e-02],\n",
              "       [1.122e+01, 1.986e+01, 7.194e+01, 3.873e+02, 1.054e-01],\n",
              "       [9.777e+00, 1.699e+01, 6.250e+01, 2.902e+02, 1.037e-01],\n",
              "       [2.013e+01, 2.825e+01, 1.312e+02, 1.261e+03, 9.780e-02],\n",
              "       [1.381e+01, 2.375e+01, 9.156e+01, 5.978e+02, 1.323e-01],\n",
              "       [1.115e+01, 1.308e+01, 7.087e+01, 3.819e+02, 9.754e-02],\n",
              "       [1.727e+01, 2.542e+01, 1.124e+02, 9.288e+02, 8.331e-02],\n",
              "       [1.570e+01, 2.031e+01, 1.012e+02, 7.666e+02, 9.597e-02],\n",
              "       [9.738e+00, 1.197e+01, 6.124e+01, 2.885e+02, 9.250e-02],\n",
              "       [1.805e+01, 1.615e+01, 1.202e+02, 1.006e+03, 1.065e-01],\n",
              "       [1.799e+01, 2.066e+01, 1.178e+02, 9.917e+02, 1.036e-01],\n",
              "       [1.082e+01, 2.421e+01, 6.889e+01, 3.616e+02, 8.192e-02],\n",
              "       [1.175e+01, 1.756e+01, 7.589e+01, 4.229e+02, 1.073e-01],\n",
              "       [1.234e+01, 2.222e+01, 7.985e+01, 4.645e+02, 1.012e-01],\n",
              "       [2.309e+01, 1.983e+01, 1.521e+02, 1.682e+03, 9.342e-02],\n",
              "       [1.444e+01, 1.518e+01, 9.397e+01, 6.401e+02, 9.970e-02],\n",
              "       [1.464e+01, 1.685e+01, 9.421e+01, 6.660e+02, 8.641e-02],\n",
              "       [1.607e+01, 1.965e+01, 1.041e+02, 8.177e+02, 9.168e-02],\n",
              "       [1.152e+01, 1.493e+01, 7.387e+01, 4.063e+02, 1.013e-01],\n",
              "       [1.422e+01, 2.785e+01, 9.255e+01, 6.239e+02, 8.223e-02],\n",
              "       [2.073e+01, 3.112e+01, 1.357e+02, 1.419e+03, 9.469e-02],\n",
              "       [9.029e+00, 1.733e+01, 5.879e+01, 2.505e+02, 1.066e-01],\n",
              "       [2.109e+01, 2.657e+01, 1.427e+02, 1.311e+03, 1.141e-01],\n",
              "       [9.173e+00, 1.386e+01, 5.920e+01, 2.609e+02, 7.721e-02],\n",
              "       [1.065e+01, 2.522e+01, 6.801e+01, 3.470e+02, 9.657e-02],\n",
              "       [1.017e+01, 1.488e+01, 6.455e+01, 3.119e+02, 1.134e-01],\n",
              "       [1.454e+01, 2.754e+01, 9.673e+01, 6.588e+02, 1.139e-01],\n",
              "       [1.441e+01, 1.973e+01, 9.603e+01, 6.510e+02, 8.757e-02],\n",
              "       [1.143e+01, 1.539e+01, 7.306e+01, 3.998e+02, 9.639e-02],\n",
              "       [1.225e+01, 1.794e+01, 7.827e+01, 4.603e+02, 8.654e-02],\n",
              "       [1.989e+01, 2.026e+01, 1.305e+02, 1.214e+03, 1.037e-01],\n",
              "       [1.236e+01, 2.180e+01, 7.978e+01, 4.661e+02, 8.772e-02],\n",
              "       [2.110e+01, 2.052e+01, 1.381e+02, 1.384e+03, 9.684e-02],\n",
              "       [1.487e+01, 1.667e+01, 9.864e+01, 6.825e+02, 1.162e-01],\n",
              "       [9.667e+00, 1.849e+01, 6.149e+01, 2.891e+02, 8.946e-02],\n",
              "       [1.340e+01, 1.695e+01, 8.548e+01, 5.524e+02, 7.937e-02],\n",
              "       [1.927e+01, 2.647e+01, 1.279e+02, 1.162e+03, 9.401e-02],\n",
              "       [1.799e+01, 1.038e+01, 1.228e+02, 1.001e+03, 1.184e-01],\n",
              "       [1.522e+01, 3.062e+01, 1.034e+02, 7.169e+02, 1.048e-01],\n",
              "       [1.426e+01, 1.817e+01, 9.122e+01, 6.331e+02, 6.576e-02],\n",
              "       [1.170e+01, 1.911e+01, 7.433e+01, 4.187e+02, 8.814e-02],\n",
              "       [1.527e+01, 1.291e+01, 9.817e+01, 7.255e+02, 8.182e-02],\n",
              "       [1.534e+01, 1.426e+01, 1.025e+02, 7.044e+02, 1.073e-01],\n",
              "       [1.351e+01, 1.889e+01, 8.810e+01, 5.581e+02, 1.059e-01],\n",
              "       [1.048e+01, 1.986e+01, 6.672e+01, 3.377e+02, 1.070e-01],\n",
              "       [1.464e+01, 1.524e+01, 9.577e+01, 6.519e+02, 1.132e-01],\n",
              "       [1.445e+01, 2.022e+01, 9.449e+01, 6.427e+02, 9.872e-02],\n",
              "       [1.104e+01, 1.683e+01, 7.092e+01, 3.732e+02, 1.077e-01],\n",
              "       [1.981e+01, 2.215e+01, 1.300e+02, 1.260e+03, 9.831e-02],\n",
              "       [1.026e+01, 1.222e+01, 6.575e+01, 3.216e+02, 9.996e-02],\n",
              "       [1.289e+01, 1.312e+01, 8.189e+01, 5.159e+02, 6.955e-02],\n",
              "       [1.340e+01, 2.052e+01, 8.864e+01, 5.567e+02, 1.106e-01],\n",
              "       [1.296e+01, 1.829e+01, 8.418e+01, 5.252e+02, 7.351e-02],\n",
              "       [1.775e+01, 2.803e+01, 1.173e+02, 9.816e+02, 9.997e-02],\n",
              "       [2.058e+01, 2.214e+01, 1.347e+02, 1.290e+03, 9.090e-02],\n",
              "       [1.528e+01, 2.241e+01, 9.892e+01, 7.106e+02, 9.057e-02],\n",
              "       [1.378e+01, 1.579e+01, 8.837e+01, 5.859e+02, 8.817e-02],\n",
              "       [1.510e+01, 2.202e+01, 9.726e+01, 7.128e+02, 9.056e-02],\n",
              "       [1.234e+01, 1.495e+01, 7.829e+01, 4.691e+02, 8.682e-02],\n",
              "       [8.196e+00, 1.684e+01, 5.171e+01, 2.019e+02, 8.600e-02],\n",
              "       [1.345e+01, 1.830e+01, 8.660e+01, 5.551e+02, 1.022e-01],\n",
              "       [1.132e+01, 2.708e+01, 7.176e+01, 3.957e+02, 6.883e-02],\n",
              "       [2.227e+01, 1.967e+01, 1.528e+02, 1.509e+03, 1.326e-01],\n",
              "       [1.940e+01, 2.350e+01, 1.291e+02, 1.155e+03, 1.027e-01],\n",
              "       [7.760e+00, 2.454e+01, 4.792e+01, 1.810e+02, 5.263e-02],\n",
              "       [1.486e+01, 1.694e+01, 9.489e+01, 6.737e+02, 8.924e-02],\n",
              "       [1.113e+01, 1.662e+01, 7.047e+01, 3.811e+02, 8.151e-02],\n",
              "       [9.720e+00, 1.822e+01, 6.073e+01, 2.881e+02, 6.950e-02],\n",
              "       [9.606e+00, 1.684e+01, 6.164e+01, 2.805e+02, 8.481e-02],\n",
              "       [1.008e+01, 1.511e+01, 6.376e+01, 3.175e+02, 9.267e-02],\n",
              "       [1.256e+01, 1.907e+01, 8.192e+01, 4.858e+02, 8.760e-02],\n",
              "       [1.513e+01, 2.981e+01, 9.671e+01, 7.195e+02, 8.320e-02],\n",
              "       [1.048e+01, 1.498e+01, 6.749e+01, 3.336e+02, 9.816e-02],\n",
              "       [1.278e+01, 1.649e+01, 8.137e+01, 5.025e+02, 9.831e-02],\n",
              "       [1.474e+01, 2.542e+01, 9.470e+01, 6.686e+02, 8.275e-02],\n",
              "       [9.904e+00, 1.806e+01, 6.460e+01, 3.024e+02, 9.699e-02],\n",
              "       [1.382e+01, 2.449e+01, 9.233e+01, 5.959e+02, 1.162e-01],\n",
              "       [1.289e+01, 1.411e+01, 8.495e+01, 5.122e+02, 8.760e-02]])"
            ]
          },
          "metadata": {},
          "execution_count": 17
        }
      ]
    },
    {
      "cell_type": "code",
      "source": [
        "y_train"
      ],
      "metadata": {
        "colab": {
          "base_uri": "https://localhost:8080/"
        },
        "id": "Vjm2zNEGeird",
        "outputId": "bb93590f-b44b-443a-cc55-0ed3980fc37a"
      },
      "execution_count": 18,
      "outputs": [
        {
          "output_type": "execute_result",
          "data": {
            "text/plain": [
              "array([1, 1, 1, 1, 1, 0, 1, 1, 1, 1, 1, 1, 0, 0, 0, 1, 1, 0, 1, 0, 1, 1,\n",
              "       1, 1, 0, 1, 1, 0, 1, 1, 1, 0, 1, 0, 0, 1, 1, 1, 0, 1, 1, 1, 1, 0,\n",
              "       1, 1, 1, 1, 1, 0, 1, 0, 0, 1, 1, 0, 1, 1, 1, 1, 1, 1, 1, 0, 0, 0,\n",
              "       1, 1, 0, 1, 1, 0, 1, 0, 1, 0, 1, 0, 1, 1, 0, 1, 1, 1, 0, 1, 0, 1,\n",
              "       0, 1, 0, 1, 1, 0, 1, 1, 1, 1, 0, 1, 1, 1, 0, 1, 1, 0, 1, 1, 0, 1,\n",
              "       1, 1, 1, 1, 1, 1, 0, 1, 1, 1, 0, 1, 0, 1, 1, 1, 0, 1, 0, 0, 1, 1,\n",
              "       0, 1, 0, 0, 0, 1, 1, 1, 0, 1, 1, 0, 1, 0, 1, 1, 1, 0, 1, 0, 1, 1,\n",
              "       0, 0, 1, 1, 0, 1, 0, 0, 1, 0, 0, 1, 1, 0, 0, 0, 1, 1, 1, 1, 0, 1,\n",
              "       0, 0, 0, 0, 1, 1, 1, 1, 1, 1, 1, 1, 0, 0, 1, 1, 0, 1, 1, 1, 1, 1,\n",
              "       0, 1, 1, 0, 0, 1, 0, 1, 0, 1, 1, 1, 1, 1, 1, 0, 1, 1, 0, 1, 1, 1,\n",
              "       1, 1, 1, 0, 1, 1, 0, 1, 0, 0, 0, 1, 0, 1, 1, 0, 0, 0, 1, 1, 1, 1,\n",
              "       1, 1, 1, 0, 1, 1, 1, 0, 1, 1, 0, 0, 1, 0, 1, 0, 0, 1, 1, 0, 1, 0,\n",
              "       0, 1, 0, 0, 1, 1, 0, 1, 0, 1, 1, 0, 1, 1, 0, 0, 0, 1, 1, 1, 0, 0,\n",
              "       1, 0, 0, 1, 1, 1, 0, 1, 0, 0, 0, 0, 1, 1, 0, 1, 1, 0, 0, 0, 0, 0,\n",
              "       0, 1, 1, 1, 1, 1, 1, 1, 0, 0, 0, 0, 1, 1, 1, 1, 0, 1, 0, 1, 1, 1,\n",
              "       1, 1, 0, 0, 0, 1, 1, 0, 1, 1, 0, 0, 0, 0, 1, 1, 0, 0, 1, 1, 1, 0,\n",
              "       0, 0, 1, 1, 0, 1, 1, 1, 1, 0, 1, 1, 1, 1, 1, 1, 1, 1, 1, 0, 1, 1,\n",
              "       1, 1, 1, 1, 0, 1, 1, 0, 1, 1, 0, 0, 0, 1, 0, 0, 1, 0, 1, 1, 1, 1,\n",
              "       0, 1])"
            ]
          },
          "metadata": {},
          "execution_count": 18
        }
      ]
    },
    {
      "cell_type": "code",
      "source": [
        "y_test"
      ],
      "metadata": {
        "colab": {
          "base_uri": "https://localhost:8080/"
        },
        "id": "YvnZ6xd5ekov",
        "outputId": "6743b73d-156f-43d1-9aef-fac47d38842f"
      },
      "execution_count": 19,
      "outputs": [
        {
          "output_type": "execute_result",
          "data": {
            "text/plain": [
              "array([1, 0, 0, 1, 1, 0, 0, 0, 1, 1, 1, 0, 1, 0, 1, 0, 1, 1, 1, 0, 0, 1,\n",
              "       0, 1, 1, 1, 1, 1, 1, 0, 1, 1, 1, 1, 1, 1, 0, 1, 0, 1, 1, 0, 1, 1,\n",
              "       1, 1, 1, 1, 1, 1, 0, 0, 1, 1, 1, 1, 1, 0, 0, 1, 1, 0, 0, 1, 1, 1,\n",
              "       0, 0, 1, 1, 0, 0, 1, 0, 1, 1, 1, 0, 1, 1, 0, 1, 0, 0, 0, 0, 0, 0,\n",
              "       1, 1, 1, 1, 1, 1, 1, 1, 0, 0, 1, 0, 0, 1, 0, 0, 1, 1, 1, 0, 1, 1,\n",
              "       0, 1, 1, 0, 1, 0, 1, 1, 1, 0, 1, 1, 1, 0, 1, 0, 0, 1, 1, 0, 0, 0,\n",
              "       1, 1, 1, 0, 1, 1, 1, 0, 1, 0, 1, 1, 0, 1, 0, 0, 0, 1, 0, 1, 1, 1,\n",
              "       1, 0, 0, 1, 1, 1, 1, 1, 1, 1, 0, 1, 1, 1, 1, 0, 1])"
            ]
          },
          "metadata": {},
          "execution_count": 19
        }
      ]
    },
    {
      "cell_type": "code",
      "source": [
        "from sklearn.preprocessing import StandardScaler\n",
        "scaler=StandardScaler()\n",
        "scaler.fit(x_train)\n",
        "x_train=scaler.fit_transform(x_train)\n",
        "x_test=scaler.fit_transform(x_test)\n",
        "x_train"
      ],
      "metadata": {
        "colab": {
          "base_uri": "https://localhost:8080/"
        },
        "id": "zmkn9qfMe3O1",
        "outputId": "e334cec8-49a9-4283-c377-68ced9055f60"
      },
      "execution_count": 21,
      "outputs": [
        {
          "output_type": "execute_result",
          "data": {
            "text/plain": [
              "array([[-0.12348985, -0.29680142, -0.17050713, -0.20861569, -1.2016799 ],\n",
              "       [-0.22826757, -0.65795149, -0.25377521, -0.2965028 , -1.80463697],\n",
              "       [ 0.14553402, -1.23056444,  0.24583328, -0.01024193,  0.5191843 ],\n",
              "       ...,\n",
              "       [ 0.03226081, -0.55578404, -0.08064356, -0.0758085 , -2.30358576],\n",
              "       [-0.05552593,  0.10949242, -0.04684166, -0.16815972,  0.73011017],\n",
              "       [-0.56525537,  0.32333128, -0.619825  , -0.56100116, -1.15149409]])"
            ]
          },
          "metadata": {},
          "execution_count": 21
        }
      ]
    },
    {
      "cell_type": "code",
      "source": [
        "x_test"
      ],
      "metadata": {
        "colab": {
          "base_uri": "https://localhost:8080/"
        },
        "id": "VQuU1_kOfbFZ",
        "outputId": "12a9daee-d799-48f2-c0f0-b13b20db904b"
      },
      "execution_count": 22,
      "outputs": [
        {
          "output_type": "execute_result",
          "data": {
            "text/plain": [
              "array([[-4.41808719e-01, -2.21638929e-01, -4.20044812e-01,\n",
              "        -4.82547685e-01,  1.60796304e-01],\n",
              "       [ 1.40986153e+00,  3.83033719e-01,  1.32877902e+00,\n",
              "         1.45239726e+00, -4.89952238e-01],\n",
              "       [ 4.13909062e-01, -2.52876630e-02,  4.27832374e-01,\n",
              "         3.14598281e-01,  8.10864147e-01],\n",
              "       [-4.61842246e-01, -4.26915252e-01, -4.04411947e-01,\n",
              "        -5.24644157e-01,  5.52198409e-01],\n",
              "       [-7.07968430e-01, -1.14984491e+00, -6.84980720e-01,\n",
              "        -7.18407353e-01,  1.73729591e-01],\n",
              "       [ 1.88494230e+00,  2.17250775e+00,  2.00757444e+00,\n",
              "         1.85544859e+00,  1.39626556e+00],\n",
              "       [ 2.28847477e+00,  5.14678317e-01,  2.29966216e+00,\n",
              "         2.50331629e+00,  6.13461347e-01],\n",
              "       [ 1.01777679e+00, -1.01373778e+00,  9.74982620e-01,\n",
              "         9.30221870e-01,  8.04737854e-02],\n",
              "       [-1.92820602e-01, -8.33005369e-01, -1.97893584e-01,\n",
              "        -3.68797642e-01,  7.15566244e-01],\n",
              "       [-3.25523888e-02, -6.63429276e-01, -9.58685756e-02,\n",
              "        -1.31743748e-01, -1.97455744e+00],\n",
              "       [-2.30025723e-01,  1.26215189e+00, -2.96216072e-01,\n",
              "        -3.15356021e-01, -6.38344688e-01],\n",
              "       [ 7.91684136e-01, -1.77013641e-01,  7.40489658e-01,\n",
              "         7.24814970e-01, -5.87972939e-01],\n",
              "       [ 2.73674376e-01,  3.71877397e-02,  1.72769853e-01,\n",
              "         1.39345591e-01, -8.90203434e-01],\n",
              "       [ 6.42863653e-01,  5.10215789e-01,  6.66439248e-01,\n",
              "         5.47173827e-01,  1.30777465e+00],\n",
              "       [-4.79013840e-01, -1.63402928e+00, -5.08493912e-01,\n",
              "        -5.22554261e-01, -4.94036434e-01],\n",
              "       [ 1.45565245e+00,  1.49420338e+00,  1.55504416e+00,\n",
              "         1.45836839e+00,  1.64812430e+00],\n",
              "       [ 2.27883458e-01, -1.09183204e+00,  1.38212996e-01,\n",
              "         1.10982720e-01, -8.55487769e-01],\n",
              "       [-1.10291510e+00, -7.43754794e-04, -1.09308075e+00,\n",
              "        -9.90690918e-01,  2.05041759e-01],\n",
              "       [-2.01272340e+00, -1.37520261e+00, -1.95453385e+00,\n",
              "        -1.49286302e+00,  1.34180961e+00],\n",
              "       [ 1.87063264e+00,  2.82626822e-01,  1.91295447e+00,\n",
              "         1.98382791e+00,  4.97742464e-01],\n",
              "       [-6.11717125e-02, -8.48624220e-01, -3.58054659e-02,\n",
              "        -1.77422899e-01,  2.32269732e-01],\n",
              "       [-5.47700217e-01, -4.17990194e-01, -5.44284943e-01,\n",
              "        -5.89132370e-01,  3.82023581e-01],\n",
              "       [ 2.17399748e+00,  5.99466364e-01,  2.18447264e+00,\n",
              "         2.27939888e+00,  1.32138863e+00],\n",
              "       [-1.14012022e+00,  3.76339926e-01, -1.15643499e+00,\n",
              "        -1.00382741e+00, -1.09713602e+00],\n",
              "       [-6.90796836e-01,  1.09257579e+00, -7.02259149e-01,\n",
              "        -6.75713767e-01, -1.53482568e+00],\n",
              "       [-1.38443887e-01, -1.93078745e+00, -1.39476039e-01,\n",
              "        -2.51763478e-01,  2.16545578e+00],\n",
              "       [-2.09992196e-01, -1.31049595e+00, -2.26690965e-01,\n",
              "        -3.03712316e-01, -9.29683994e-01],\n",
              "       [-1.06570998e+00,  1.78873028e+00, -1.05440998e+00,\n",
              "        -9.61730934e-01, -4.75657553e-01],\n",
              "       [-3.58812680e-01, -1.68088583e-01, -3.87956301e-01,\n",
              "        -4.38659873e-01, -3.59257970e-02],\n",
              "       [ 9.11885296e-01,  1.09926959e+00,  9.42071327e-01,\n",
              "         8.53492839e-01,  6.67917292e-01],\n",
              "       [-8.25307658e-01,  6.35166594e-01, -8.14980328e-01,\n",
              "        -7.91553705e-01, -1.10802721e-01],\n",
              "       [-5.59147946e-01, -1.52915986e+00, -5.94886056e-01,\n",
              "        -5.81967013e-01, -2.84381046e-01],\n",
              "       [-1.22254387e+00, -1.05613181e-01, -1.20827028e+00,\n",
              "        -1.05637336e+00,  6.95145264e-01],\n",
              "       [-9.55149011e-02, -7.28135943e-01, -1.45646906e-01,\n",
              "        -2.03098762e-01, -3.07524823e-01],\n",
              "       [-1.09719123e+00, -4.60384217e-01, -1.07703650e+00,\n",
              "        -9.86511127e-01,  5.99847361e-01],\n",
              "       [-7.13692295e-01, -1.88169963e-01, -7.38872963e-01,\n",
              "        -7.00195404e-01, -1.39392092e-01],\n",
              "       [ 5.74177276e-01,  8.13667745e-01,  4.68971490e-01,\n",
              "         4.60592430e-01, -1.03655379e+00],\n",
              "       [-6.50729783e-01, -1.24355802e+00, -7.01847758e-01,\n",
              "        -6.45559556e-01, -1.30406862e+00],\n",
              "       [ 1.21238820e+00,  8.62755561e-02,  1.16422255e+00,\n",
              "         1.18369637e+00, -1.80914751e-01],\n",
              "       [ 1.73506743e-01,  9.87706366e-01,  1.34510475e-01,\n",
              "         5.72425425e-02, -5.13776714e-01],\n",
              "       [-1.00847133e+00, -6.76816863e-02, -9.82827922e-01,\n",
              "        -9.17843122e-01,  1.77133088e-01],\n",
              "       [ 3.05155632e-01,  1.37148384e+00,  2.75617644e-01,\n",
              "         2.18164518e-01,  3.47988615e-01],\n",
              "       [-6.87934903e-01, -7.97305139e-01, -6.51658036e-01,\n",
              "        -7.02583856e-01,  7.83636175e-01],\n",
              "       [-6.22110459e-01, -1.45775940e-01, -6.49601080e-01,\n",
              "        -6.43469661e-01, -5.83888743e-01],\n",
              "       [-6.07800797e-01, -4.98315712e-01, -6.21215090e-01,\n",
              "        -6.20779363e-01,  1.71619423e+00],\n",
              "       [-7.65207078e-01,  3.71877397e-01, -7.74252603e-01,\n",
              "        -7.37514971e-01, -6.60127066e-01],\n",
              "       [-1.35047225e+00, -1.27033319e+00, -1.28931434e+00,\n",
              "        -1.15161289e+00,  2.71001523e+00],\n",
              "       [-1.31383951e+00,  1.84897442e+00, -1.31811172e+00,\n",
              "        -1.11130776e+00, -1.09305183e+00],\n",
              "       [-6.70763309e-01,  9.52006136e-02, -6.61942815e-01,\n",
              "        -6.78699333e-01,  2.93532670e-01],\n",
              "       [-3.21607559e-01, -8.68705599e-01, -2.97038854e-01,\n",
              "        -3.78948565e-01, -1.30066512e+00],\n",
              "       [ 9.09023364e-01,  5.52609812e-01,  8.35109625e-01,\n",
              "         8.50208717e-01, -1.89083142e-03],\n",
              "       [ 1.32114163e+00,  1.23091418e+00,  1.37814596e+00,\n",
              "         1.32700351e+00,  6.20268340e-01],\n",
              "       [-2.58645047e-01,  6.57479238e-01, -1.76089852e-01,\n",
              "        -3.40733327e-01,  1.98234766e-01],\n",
              "       [-2.11046592e-02, -1.43321549e+00, -4.07421599e-02,\n",
              "        -1.47268688e-01,  1.87275507e+00],\n",
              "       [-6.04938864e-01, -1.10298836e+00, -5.42639378e-01,\n",
              "        -6.29138947e-01,  1.21928373e+00],\n",
              "       [-2.41473452e-01, -3.06426975e-01, -2.88811031e-01,\n",
              "        -3.17147361e-01, -1.54027128e+00],\n",
              "       [-1.07715771e+00, -7.61604909e-01, -1.01944174e+00,\n",
              "        -9.53371351e-01,  5.99847361e-01],\n",
              "       [ 3.20715506e+00,  1.18628890e+00,  3.29934269e+00,\n",
              "         3.68560019e+00,  6.13461347e-01],\n",
              "       [-1.52753549e-01,  2.73701764e-01, -1.19317872e-01,\n",
              "        -2.51763478e-01,  2.93532670e-01],\n",
              "       [-7.79516740e-01, -1.46222193e+00, -7.84537382e-01,\n",
              "        -7.62892277e-01,  7.16246943e-02],\n",
              "       [-3.30193356e-01, -3.55514792e-01, -3.33652668e-01,\n",
              "        -4.09699889e-01,  1.39694626e-01],\n",
              "       [ 1.62450646e+00,  3.69646133e-01,  1.59206936e+00,\n",
              "         1.67034354e+00,  8.38092120e-01],\n",
              "       [ 2.15968781e+00,  6.24010272e-01,  2.08573876e+00,\n",
              "         2.49435959e+00,  9.33390024e-01],\n",
              "       [ 1.10544230e-01,  1.65039189e+00,  3.90677257e-02,\n",
              "         7.68215663e-03, -1.86088065e+00],\n",
              "       [-4.90461569e-01, -1.27925825e-01, -5.52101375e-01,\n",
              "        -5.34795079e-01, -9.63718960e-01],\n",
              "       [-3.98879733e-01,  9.76550045e-01, -4.09348641e-01,\n",
              "        -4.39256986e-01, -1.24280568e+00],\n",
              "       [ 5.05490898e-01,  7.40036020e-01,  5.92388839e-01,\n",
              "         4.15211836e-01,  1.23970471e+00],\n",
              "       [ 1.76474115e+00,  9.76550045e-01,  2.15567526e+00,\n",
              "         1.79573728e+00,  2.13142081e+00],\n",
              "       [-6.30696256e-01, -4.91621919e-01, -6.59474468e-01,\n",
              "        -6.40782652e-01,  2.32269732e-01],\n",
              "       [-2.95850168e-01, -5.42941000e-02, -2.78937643e-01,\n",
              "        -3.86711035e-01, -1.01953630e-01],\n",
              "       [-6.97575097e-02,  6.01697628e-01, -2.75776427e-02,\n",
              "        -1.63092185e-01,  1.54601940e+00],\n",
              "       [ 5.05490898e-01, -3.80058700e-01,  5.05996695e-01,\n",
              "         4.10434931e-01, -1.27820204e-02],\n",
              "       [ 1.32385293e-02, -5.38478471e-01, -6.37800650e-02,\n",
              "        -1.02783764e-01, -1.14614638e+00],\n",
              "       [ 7.00102300e-01,  1.15281993e-01,  7.40489658e-01,\n",
              "         5.65385776e-01,  6.95825964e-02],\n",
              "       [-1.79865086e+00,  1.31570223e+00, -1.78216095e+00,\n",
              "        -1.38747256e+00, -1.11006931e+00],\n",
              "       [-1.55615481e-01, -1.23463296e+00, -1.63748117e-01,\n",
              "        -2.90277272e-01,  6.67917292e-01],\n",
              "       [ 4.65273217e-03,  3.69646133e-01, -6.21345003e-02,\n",
              "        -1.19801487e-01, -4.48429580e-01],\n",
              "       [-1.53807945e-02, -5.67484908e-01,  5.33365033e-03,\n",
              "        -1.22787052e-01,  8.38092120e-01],\n",
              "       [-9.34061088e-01, -1.03158790e+00, -9.47859673e-01,\n",
              "        -8.60520266e-01, -1.31768260e+00],\n",
              "       [-7.85240604e-01, -1.48007204e+00, -7.46278003e-01,\n",
              "        -7.67967738e-01,  1.79787815e+00],\n",
              "       [ 6.14244329e-01,  4.34352800e-01,  6.12958397e-01,\n",
              "         4.96419215e-01,  2.39076725e-01],\n",
              "       [-7.90964469e-01, -1.07398192e+00, -8.19505630e-01,\n",
              "        -7.56921146e-01, -9.68483855e-01],\n",
              "       [ 1.33439689e-01,  4.16502685e-01,  1.21345958e-01,\n",
              "         1.39518440e-02, -1.93848037e-01],\n",
              "       [ 1.98224801e+00,  8.85068205e-01,  1.95820750e+00,\n",
              "         2.15101957e+00,  2.32269732e-01],\n",
              "       [ 1.12080636e+00,  1.09034453e+00,  9.83210444e-01,\n",
              "         1.06098964e+00, -5.94779932e-01],\n",
              "       [ 3.73842009e-01, -5.18397091e-01,  4.89541049e-01,\n",
              "         2.08312153e-01,  2.46496348e+00],\n",
              "       [-4.44670651e-01,  9.92168895e-01, -3.01564157e-01,\n",
              "        -5.00461077e-01,  1.45072150e+00],\n",
              "       [ 1.02636259e+00,  8.33749124e-01,  1.13953909e+00,\n",
              "         1.00605523e+00, -2.99356431e-01],\n",
              "       [-5.62009879e-01,  6.97641997e-01, -5.16310344e-01,\n",
              "        -5.84355465e-01, -1.90172261e+00],\n",
              "       [-3.30193356e-01, -1.39974652e+00, -3.48874141e-01,\n",
              "        -4.14178237e-01,  1.09675786e+00],\n",
              "       [-5.76319541e-01, -8.79861921e-01, -5.90360753e-01,\n",
              "        -5.97790510e-01, -3.93292936e-03],\n",
              "       [-1.58477413e-01, -1.88169963e-01, -1.58811423e-01,\n",
              "        -2.75946558e-01,  6.95145264e-01],\n",
              "       [ 2.93707902e-01, -6.36654104e-01,  3.05649199e-01,\n",
              "         1.36957139e-01,  1.04978961e-01],\n",
              "       [-8.05274131e-01,  2.18143281e+00, -8.48714403e-01,\n",
              "        -7.68863408e-01, -1.55184317e+00],\n",
              "       [-7.99550266e-01,  5.95003835e-02, -7.96467725e-01,\n",
              "        -7.64982173e-01,  5.52198409e-01],\n",
              "       [-1.21252711e+00, -5.80872494e-01, -1.18482098e+00,\n",
              "        -1.05488057e+00,  4.36479526e-01],\n",
              "       [ 1.75043148e+00,  1.93153120e+00,  1.64143630e+00,\n",
              "         1.84350633e+00,  3.48669314e-02],\n",
              "       [-5.83097802e-02,  9.27462228e-01,  1.06817354e-02,\n",
              "        -1.36520653e-01,  2.38327956e+00],\n",
              "       [-8.19583793e-01, -1.45329687e+00, -8.40486580e-01,\n",
              "        -7.81104226e-01,  1.71687493e-02],\n",
              "       [ 9.31918823e-01,  1.30008338e+00,  8.68020918e-01,\n",
              "         8.51701500e-01, -9.51466372e-01],\n",
              "       [ 4.82595439e-01,  1.59907281e-01,  4.07262816e-01,\n",
              "         3.67442789e-01, -8.97010427e-02],\n",
              "       [-1.22368864e+00, -1.70096721e+00, -1.23665627e+00,\n",
              "        -1.05995604e+00, -3.25903704e-01],\n",
              "       [ 1.15514955e+00, -7.68298702e-01,  1.18890602e+00,\n",
              "         1.08218715e+00,  6.27075333e-01],\n",
              "       [ 1.13797795e+00,  2.38001534e-01,  1.09017215e+00,\n",
              "         1.03949356e+00,  4.29672532e-01],\n",
              "       [-9.14027561e-01,  1.03010039e+00, -9.21942030e-01,\n",
              "        -8.41711204e-01, -1.04608358e+00],\n",
              "       [-6.47867850e-01, -4.53690424e-01, -6.33968216e-01,\n",
              "        -6.58696044e-01,  6.81531278e-01],\n",
              "       [-4.79013840e-01,  5.86078778e-01, -4.71057316e-01,\n",
              "        -5.34496523e-01,  2.66304698e-01],\n",
              "       [ 2.59756347e+00,  5.28065904e-02,  2.50124383e+00,\n",
              "         3.10042937e+00, -2.63279367e-01],\n",
              "       [ 1.21991960e-01, -9.84731347e-01,  1.09827006e-01,\n",
              "        -1.02312359e-02,  1.64199801e-01],\n",
              "       [ 1.79230607e-01, -6.12110195e-01,  1.19700393e-01,\n",
              "         6.70949084e-02, -7.40449585e-01],\n",
              "       [ 5.88486937e-01,  1.26438315e-02,  5.26566253e-01,\n",
              "         5.20005182e-01, -3.81721048e-01],\n",
              "       [-7.13692295e-01, -1.04051296e+00, -7.17069231e-01,\n",
              "        -7.08256430e-01,  2.73111691e-01],\n",
              "       [ 5.90294474e-02,  1.84228062e+00,  5.14094605e-02,\n",
              "        -5.85973956e-02, -1.02498190e+00],\n",
              "       [ 1.92214743e+00,  2.57190408e+00,  1.82656233e+00,\n",
              "         2.31522567e+00, -1.76830555e-01],\n",
              "       [-1.42659965e+00, -5.05009505e-01, -1.33744710e+00,\n",
              "        -1.17340752e+00,  6.33882326e-01],\n",
              "       [ 2.02517699e+00,  1.55667878e+00,  2.11453614e+00,\n",
              "         1.99278460e+00,  1.14440681e+00],\n",
              "       [-1.38538782e+00, -1.27925825e+00, -1.32058007e+00,\n",
              "        -1.14235764e+00, -1.36669295e+00],\n",
              "       [-9.62680412e-01,  1.25545809e+00, -9.58144452e-01,\n",
              "        -8.85300459e-01, -4.88590840e-02],\n",
              "       [-1.10005317e+00, -1.05166928e+00, -1.10048579e+00,\n",
              "        -9.90093805e-01,  1.09675786e+00],\n",
              "       [ 1.50611283e-01,  1.77311143e+00,  2.23370966e-01,\n",
              "         4.55988374e-02,  1.13079282e+00],\n",
              "       [ 1.13406163e-01,  3.04939466e-02,  1.94573585e-01,\n",
              "         2.23114272e-02, -6.61488465e-01],\n",
              "       [-7.39449686e-01, -9.37874795e-01, -7.50391915e-01,\n",
              "        -7.27662605e-01, -6.11116716e-02],\n",
              "       [-5.04771231e-01, -3.68902378e-01, -5.36057119e-01,\n",
              "        -5.47035898e-01, -7.31600494e-01],\n",
              "       [ 1.68174511e+00,  1.48750959e-01,  1.61263892e+00,\n",
              "         1.70318476e+00,  4.36479526e-01],\n",
              "       [-4.73289975e-01,  4.92365674e-01, -4.73937054e-01,\n",
              "        -5.29719618e-01, -6.51277975e-01],\n",
              "       [ 2.02803892e+00,  2.06763833e-01,  1.92529621e+00,\n",
              "         2.21073088e+00, -3.04802025e-02],\n",
              "       [ 2.45055052e-01, -6.52272954e-01,  3.01946678e-01,\n",
              "         1.16356738e-01,  1.28735367e+00],\n",
              "       [-1.24400836e+00, -2.46182837e-01, -1.22637149e+00,\n",
              "        -1.05816470e+00, -5.32836295e-01],\n",
              "       [-1.75649008e-01, -5.89797552e-01, -2.39444091e-01,\n",
              "        -2.72065323e-01, -1.21966190e+00],\n",
              "       [ 1.50430530e+00,  1.53436614e+00,  1.50567722e+00,\n",
              "         1.54793535e+00, -2.23118108e-01],\n",
              "       [ 1.13797795e+00, -2.05573825e+00,  1.29586773e+00,\n",
              "         1.06725932e+00,  1.43710751e+00],\n",
              "       [ 3.45222685e-01,  2.46034086e+00,  4.97768872e-01,\n",
              "         2.19060188e-01,  5.11356450e-01],\n",
              "       [ 7.04771769e-02, -3.17583297e-01, -3.30556408e-03,\n",
              "        -3.11301938e-02, -2.14609366e+00],\n",
              "       [-6.62177512e-01, -1.07844445e-01, -6.98145237e-01,\n",
              "        -6.71235419e-01, -6.22688604e-01],\n",
              "       [ 3.59532347e-01, -1.49122836e+00,  2.82611294e-01,\n",
              "         2.44736051e-01, -1.05289057e+00],\n",
              "       [ 3.79565874e-01, -1.19000767e+00,  4.60743667e-01,\n",
              "         1.81740620e-01,  6.81531278e-01],\n",
              "       [-1.44167752e-01, -1.56932262e-01, -1.31659607e-01,\n",
              "        -2.55047600e-01,  5.86233374e-01],\n",
              "       [-1.01133326e+00,  5.95003835e-02, -1.01121391e+00,\n",
              "        -9.13066218e-01,  6.61110299e-01],\n",
              "       [ 1.79230607e-01, -9.71343761e-01,  1.83877415e-01,\n",
              "         2.49984360e-02,  1.08314387e+00],\n",
              "       [ 1.24853892e-01,  1.39825901e-01,  1.31219346e-01,\n",
              "        -2.46876579e-03,  9.74912682e-02],\n",
              "       [-8.51065049e-01, -6.16572724e-01, -8.38429624e-01,\n",
              "        -8.07078645e-01,  7.08759250e-01],\n",
              "       [ 1.65884965e+00,  5.70459927e-01,  1.59206936e+00,\n",
              "         1.84052077e+00,  6.95825964e-02],\n",
              "       [-1.07429577e+00, -1.64518560e+00, -1.05111885e+00,\n",
              "        -9.61133821e-01,  1.81897983e-01],\n",
              "       [-3.21607559e-01, -1.44437181e+00, -3.87133519e-01,\n",
              "        -3.81038461e-01, -1.88810863e+00],\n",
              "       [-1.75649008e-01,  2.06763833e-01, -1.09444484e-01,\n",
              "        -2.59227392e-01,  9.06162051e-01],\n",
              "       [-3.01574032e-01, -2.90808124e-01, -2.92924942e-01,\n",
              "        -3.53272702e-01, -1.61855170e+00],\n",
              "       [ 1.06929158e+00,  1.88244338e+00,  1.06960259e+00,\n",
              "         1.00933935e+00,  1.82578682e-01],\n",
              "       [ 1.87921844e+00,  5.68228663e-01,  1.78542321e+00,\n",
              "         1.93008773e+00, -4.34815594e-01],\n",
              "       [ 3.62394280e-01,  6.28472801e-01,  3.13465631e-01,\n",
              "         2.00251126e-01, -4.57278671e-01],\n",
              "       [-6.68955773e-02, -8.48624220e-01, -1.20552045e-01,\n",
              "        -1.72048881e-01, -6.20646506e-01],\n",
              "       [ 3.10879497e-01,  5.41453490e-01,  2.45174698e-01,\n",
              "         2.06819370e-01, -4.57959371e-01],\n",
              "       [-4.79013840e-01, -1.03605043e+00, -5.35234337e-01,\n",
              "        -5.20762922e-01, -7.12540913e-01],\n",
              "       [-1.66499862e+00, -6.14341460e-01, -1.62871205e+00,\n",
              "        -1.31850600e+00, -7.68358257e-01],\n",
              "       [-1.61339346e-01, -2.88576860e-01, -1.93368281e-01,\n",
              "        -2.64004296e-01,  3.34374629e-01],\n",
              "       [-7.70930942e-01,  1.67047327e+00, -8.03872766e-01,\n",
              "        -7.39903424e-01, -1.93711898e+00],\n",
              "       [ 2.36288501e+00,  1.71063603e-02,  2.53004121e+00,\n",
              "         2.58392655e+00,  2.40370054e+00],\n",
              "       [ 1.54151042e+00,  8.71680619e-01,  1.55504416e+00,\n",
              "         1.52703640e+00,  3.68409594e-01],\n",
              "       [-1.78977887e+00,  1.10373211e+00, -1.78462930e+00,\n",
              "        -1.38090432e+00, -3.03985186e+00],\n",
              "       [ 2.42193120e-01, -5.92028816e-01,  1.47674993e-01,\n",
              "         9.00837621e-02, -5.47811680e-01],\n",
              "       [-8.25307658e-01, -6.63429276e-01, -8.56942226e-01,\n",
              "        -7.83492679e-01, -1.07399225e+00],\n",
              "       [-1.22884012e+00, -3.06426975e-01, -1.25763722e+00,\n",
              "        -1.06115026e+00, -1.89151212e+00],\n",
              "       [-1.26146615e+00, -6.14341460e-01, -1.22020062e+00,\n",
              "        -1.08384056e+00, -8.49361475e-01],\n",
              "       [-1.12581056e+00, -1.00035020e+00, -1.13298570e+00,\n",
              "        -9.73374639e-01, -3.14331816e-01],\n",
              "       [-4.16051328e-01, -1.16769503e-01, -3.85899345e-01,\n",
              "        -4.70903980e-01, -6.59446367e-01],\n",
              "       [ 3.19465294e-01,  2.27960844e+00,  2.22548184e-01,\n",
              "         2.26822658e-01, -9.58954064e-01],\n",
              "       [-1.01133326e+00, -1.02935663e+00, -9.79536793e-01,\n",
              "        -9.25307036e-01,  5.93721067e-02],\n",
              "       [-3.53088815e-01, -6.92435713e-01, -4.08525859e-01,\n",
              "        -4.21045037e-01,  6.95825964e-02],\n",
              "       [ 2.07849931e-01,  1.30008338e+00,  1.39858560e-01,\n",
              "         7.48573785e-02, -9.89585533e-01],\n",
              "       [-1.17618057e+00, -3.42127205e-01, -1.09842884e+00,\n",
              "        -1.01845668e+00, -2.02697129e-02],\n",
              "       [-5.54478478e-02,  1.09257579e+00,  4.23588550e-02,\n",
              "        -1.42193227e-01,  1.28735367e+00],\n",
              "       [-3.21607559e-01, -1.22347664e+00, -2.61247823e-01,\n",
              "        -3.92085053e-01, -6.59446367e-01]])"
            ]
          },
          "metadata": {},
          "execution_count": 22
        }
      ]
    },
    {
      "cell_type": "code",
      "source": [
        "from sklearn.naive_bayes import GaussianNB\n",
        "model=GaussianNB()\n",
        "model.fit(x_train,y_train)\n",
        "y_pred=model.predict(x_test)\n",
        "y_pred"
      ],
      "metadata": {
        "colab": {
          "base_uri": "https://localhost:8080/"
        },
        "id": "H8fWLHwnfe24",
        "outputId": "ff2da50f-5174-4506-f5a2-78d9ceb49e42"
      },
      "execution_count": 23,
      "outputs": [
        {
          "output_type": "execute_result",
          "data": {
            "text/plain": [
              "array([1, 0, 0, 1, 1, 0, 0, 0, 1, 1, 1, 0, 1, 0, 1, 0, 1, 1, 1, 0, 1, 1,\n",
              "       0, 1, 1, 1, 1, 1, 1, 0, 1, 1, 1, 1, 1, 1, 0, 1, 0, 1, 1, 0, 1, 1,\n",
              "       1, 1, 1, 1, 1, 1, 0, 0, 1, 1, 1, 1, 1, 0, 1, 1, 1, 0, 0, 1, 1, 1,\n",
              "       0, 0, 1, 1, 1, 0, 1, 0, 1, 1, 1, 1, 1, 1, 0, 1, 1, 0, 0, 0, 1, 0,\n",
              "       1, 1, 1, 1, 0, 1, 1, 1, 0, 0, 1, 0, 0, 1, 0, 0, 1, 1, 1, 0, 1, 1,\n",
              "       0, 1, 1, 0, 1, 0, 1, 1, 1, 0, 1, 1, 1, 0, 1, 0, 0, 1, 1, 0, 0, 0,\n",
              "       1, 1, 1, 0, 1, 1, 1, 1, 1, 0, 1, 1, 1, 1, 0, 0, 0, 1, 0, 1, 1, 1,\n",
              "       1, 0, 0, 1, 1, 1, 1, 1, 1, 1, 0, 1, 1, 1, 1, 1, 1])"
            ]
          },
          "metadata": {},
          "execution_count": 23
        }
      ]
    },
    {
      "cell_type": "code",
      "source": [
        "pred=model.predict(scaler.transform([[17.8,10.4,122,1340,0.1185]]))\n",
        "print(pred)"
      ],
      "metadata": {
        "colab": {
          "base_uri": "https://localhost:8080/"
        },
        "id": "w9397ZsTfor8",
        "outputId": "20497e5c-fd0d-4e95-8a70-421c3cd4c225"
      },
      "execution_count": 24,
      "outputs": [
        {
          "output_type": "stream",
          "name": "stdout",
          "text": [
            "[0]\n"
          ]
        }
      ]
    },
    {
      "cell_type": "code",
      "source": [
        "from sklearn.metrics import confusion_matrix,accuracy_score,ConfusionMatrixDisplay\n",
        "result=confusion_matrix(y_test,y_pred)\n",
        "labels=[0,1]\n",
        "cmd=ConfusionMatrixDisplay(result,display_labels=labels)\n",
        "cmd.plot()"
      ],
      "metadata": {
        "colab": {
          "base_uri": "https://localhost:8080/",
          "height": 296
        },
        "id": "JCn3I10VhSSn",
        "outputId": "e60005f0-b14c-443b-adb3-001f67a313b8"
      },
      "execution_count": 26,
      "outputs": [
        {
          "output_type": "execute_result",
          "data": {
            "text/plain": [
              "<sklearn.metrics._plot.confusion_matrix.ConfusionMatrixDisplay at 0x7f5fab3b7700>"
            ]
          },
          "metadata": {},
          "execution_count": 26
        },
        {
          "output_type": "display_data",
          "data": {
            "text/plain": [
              "<Figure size 432x288 with 2 Axes>"
            ],
            "image/png": "[encoded data removed]"
          },
          "metadata": {
            "needs_background": "light"
          }
        }
      ]
    },
    {
      "cell_type": "code",
      "source": [
        "result"
      ],
      "metadata": {
        "colab": {
          "base_uri": "https://localhost:8080/"
        },
        "id": "zG135lAghfKp",
        "outputId": "288bee62-64a8-482f-9fb6-a71011727d7d"
      },
      "execution_count": 27,
      "outputs": [
        {
          "output_type": "execute_result",
          "data": {
            "text/plain": [
              "array([[ 54,   9],\n",
              "       [  1, 107]])"
            ]
          },
          "metadata": {},
          "execution_count": 27
        }
      ]
    },
    {
      "cell_type": "code",
      "source": [
        "score=accuracy_score(y_test,y_pred)\n",
        "score"
      ],
      "metadata": {
        "colab": {
          "base_uri": "https://localhost:8080/"
        },
        "id": "x_ZcTbMvhh8r",
        "outputId": "222e7092-e27f-4885-bc7d-f99fc926de50"
      },
      "execution_count": 28,
      "outputs": [
        {
          "output_type": "execute_result",
          "data": {
            "text/plain": [
              "0.9415204678362573"
            ]
          },
          "metadata": {},
          "execution_count": 28
        }
      ]
    }
  ]
}