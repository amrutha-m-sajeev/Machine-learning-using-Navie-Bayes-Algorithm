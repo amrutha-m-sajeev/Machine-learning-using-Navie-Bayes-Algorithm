{
  "nbformat": 4,
  "nbformat_minor": 0,
  "metadata": {
    "colab": {
      "provenance": [],
      "authorship_tag": "ABX9TyM3cyUpT/TcMm5gvYW8/7MQ",
      "include_colab_link": true
    },
    "kernelspec": {
      "name": "python3",
      "display_name": "Python 3"
    },
    "language_info": {
      "name": "python"
    }
  },
  "cells": [
    {
      "cell_type": "markdown",
      "metadata": {
        "id": "view-in-github",
        "colab_type": "text"
      },
      "source": [
        "<a href=\"https://colab.research.google.com/github/amrutha-m-sajeev/Machine-learning-using-Navie-Bayes-Algorithm/blob/main/Iris_specius_prediction_using_Navie_bayse_Algorithm.ipynb\" target=\"_parent\"><img src=\"https://colab.research.google.com/assets/colab-badge.svg\" alt=\"Open In Colab\"/></a>"
      ]
    },
    {
      "cell_type": "code",
      "execution_count": 110,
      "metadata": {
        "colab": {
          "base_uri": "https://localhost:8080/",
          "height": 424
        },
        "id": "712C1cyWIYoO",
        "outputId": "3dbe82e7-5ae6-4dc8-8e66-c4863fd15f68"
      },
      "outputs": [
        {
          "output_type": "execute_result",
          "data": {
            "text/plain": [
              "      Id  SepalLengthCm  SepalWidthCm  PetalLengthCm  PetalWidthCm  \\\n",
              "0      1            5.1           3.5            1.4           0.2   \n",
              "1      2            4.9           3.0            1.4           0.2   \n",
              "2      3            4.7           3.2            1.3           0.2   \n",
              "3      4            4.6           3.1            1.5           0.2   \n",
              "4      5            5.0           3.6            1.4           0.2   \n",
              "..   ...            ...           ...            ...           ...   \n",
              "145  146            6.7           3.0            5.2           2.3   \n",
              "146  147            6.3           2.5            5.0           1.9   \n",
              "147  148            6.5           3.0            5.2           2.0   \n",
              "148  149            6.2           3.4            5.4           2.3   \n",
              "149  150            5.9           3.0            5.1           1.8   \n",
              "\n",
              "            Species  \n",
              "0       Iris-setosa  \n",
              "1       Iris-setosa  \n",
              "2       Iris-setosa  \n",
              "3       Iris-setosa  \n",
              "4       Iris-setosa  \n",
              "..              ...  \n",
              "145  Iris-virginica  \n",
              "146  Iris-virginica  \n",
              "147  Iris-virginica  \n",
              "148  Iris-virginica  \n",
              "149  Iris-virginica  \n",
              "\n",
              "[150 rows x 6 columns]"
            ],
            "text/html": [
              "\n",
              "  <div id=\"df-1a4d4e94-ea8f-4e46-b657-adc860753185\">\n",
              "    <div class=\"colab-df-container\">\n",
              "      <div>\n",
              "<style scoped>\n",
              "    .dataframe tbody tr th:only-of-type {\n",
              "        vertical-align: middle;\n",
              "    }\n",
              "\n",
              "    .dataframe tbody tr th {\n",
              "        vertical-align: top;\n",
              "    }\n",
              "\n",
              "    .dataframe thead th {\n",
              "        text-align: right;\n",
              "    }\n",
              "</style>\n",
              "<table border=\"1\" class=\"dataframe\">\n",
              "  <thead>\n",
              "    <tr style=\"text-align: right;\">\n",
              "      <th></th>\n",
              "      <th>Id</th>\n",
              "      <th>SepalLengthCm</th>\n",
              "      <th>SepalWidthCm</th>\n",
              "      <th>PetalLengthCm</th>\n",
              "      <th>PetalWidthCm</th>\n",
              "      <th>Species</th>\n",
              "    </tr>\n",
              "  </thead>\n",
              "  <tbody>\n",
              "    <tr>\n",
              "      <th>0</th>\n",
              "      <td>1</td>\n",
              "      <td>5.1</td>\n",
              "      <td>3.5</td>\n",
              "      <td>1.4</td>\n",
              "      <td>0.2</td>\n",
              "      <td>Iris-setosa</td>\n",
              "    </tr>\n",
              "    <tr>\n",
              "      <th>1</th>\n",
              "      <td>2</td>\n",
              "      <td>4.9</td>\n",
              "      <td>3.0</td>\n",
              "      <td>1.4</td>\n",
              "      <td>0.2</td>\n",
              "      <td>Iris-setosa</td>\n",
              "    </tr>\n",
              "    <tr>\n",
              "      <th>2</th>\n",
              "      <td>3</td>\n",
              "      <td>4.7</td>\n",
              "      <td>3.2</td>\n",
              "      <td>1.3</td>\n",
              "      <td>0.2</td>\n",
              "      <td>Iris-setosa</td>\n",
              "    </tr>\n",
              "    <tr>\n",
              "      <th>3</th>\n",
              "      <td>4</td>\n",
              "      <td>4.6</td>\n",
              "      <td>3.1</td>\n",
              "      <td>1.5</td>\n",
              "      <td>0.2</td>\n",
              "      <td>Iris-setosa</td>\n",
              "    </tr>\n",
              "    <tr>\n",
              "      <th>4</th>\n",
              "      <td>5</td>\n",
              "      <td>5.0</td>\n",
              "      <td>3.6</td>\n",
              "      <td>1.4</td>\n",
              "      <td>0.2</td>\n",
              "      <td>Iris-setosa</td>\n",
              "    </tr>\n",
              "    <tr>\n",
              "      <th>...</th>\n",
              "      <td>...</td>\n",
              "      <td>...</td>\n",
              "      <td>...</td>\n",
              "      <td>...</td>\n",
              "      <td>...</td>\n",
              "      <td>...</td>\n",
              "    </tr>\n",
              "    <tr>\n",
              "      <th>145</th>\n",
              "      <td>146</td>\n",
              "      <td>6.7</td>\n",
              "      <td>3.0</td>\n",
              "      <td>5.2</td>\n",
              "      <td>2.3</td>\n",
              "      <td>Iris-virginica</td>\n",
              "    </tr>\n",
              "    <tr>\n",
              "      <th>146</th>\n",
              "      <td>147</td>\n",
              "      <td>6.3</td>\n",
              "      <td>2.5</td>\n",
              "      <td>5.0</td>\n",
              "      <td>1.9</td>\n",
              "      <td>Iris-virginica</td>\n",
              "    </tr>\n",
              "    <tr>\n",
              "      <th>147</th>\n",
              "      <td>148</td>\n",
              "      <td>6.5</td>\n",
              "      <td>3.0</td>\n",
              "      <td>5.2</td>\n",
              "      <td>2.0</td>\n",
              "      <td>Iris-virginica</td>\n",
              "    </tr>\n",
              "    <tr>\n",
              "      <th>148</th>\n",
              "      <td>149</td>\n",
              "      <td>6.2</td>\n",
              "      <td>3.4</td>\n",
              "      <td>5.4</td>\n",
              "      <td>2.3</td>\n",
              "      <td>Iris-virginica</td>\n",
              "    </tr>\n",
              "    <tr>\n",
              "      <th>149</th>\n",
              "      <td>150</td>\n",
              "      <td>5.9</td>\n",
              "      <td>3.0</td>\n",
              "      <td>5.1</td>\n",
              "      <td>1.8</td>\n",
              "      <td>Iris-virginica</td>\n",
              "    </tr>\n",
              "  </tbody>\n",
              "</table>\n",
              "<p>150 rows × 6 columns</p>\n",
              "</div>\n",
              "      <button class=\"colab-df-convert\" onclick=\"convertToInteractive('df-1a4d4e94-ea8f-4e46-b657-adc860753185')\"\n",
              "              title=\"Convert this dataframe to an interactive table.\"\n",
              "              style=\"display:none;\">\n",
              "        \n",
              "  <svg xmlns=\"http://www.w3.org/2000/svg\" height=\"24px\"viewBox=\"0 0 24 24\"\n",
              "       width=\"24px\">\n",
              "    <path d=\"M0 0h24v24H0V0z\" fill=\"none\"/>\n",
              "    <path d=\"M18.56 5.44l.94 2.06.94-2.06 2.06-.94-2.06-.94-.94-2.06-.94 2.06-2.06.94zm-11 1L8.5 8.5l.94-2.06 2.06-.94-2.06-.94L8.5 2.5l-.94 2.06-2.06.94zm10 10l.94 2.06.94-2.06 2.06-.94-2.06-.94-.94-2.06-.94 2.06-2.06.94z\"/><path d=\"M17.41 7.96l-1.37-1.37c-.4-.4-.92-.59-1.43-.59-.52 0-1.04.2-1.43.59L10.3 9.45l-7.72 7.72c-.78.78-.78 2.05 0 2.83L4 21.41c.39.39.9.59 1.41.59.51 0 1.02-.2 1.41-.59l7.78-7.78 2.81-2.81c.8-.78.8-2.07 0-2.86zM5.41 20L4 18.59l7.72-7.72 1.47 1.35L5.41 20z\"/>\n",
              "  </svg>\n",
              "      </button>\n",
              "      \n",
              "  <style>\n",
              "    .colab-df-container {\n",
              "      display:flex;\n",
              "      flex-wrap:wrap;\n",
              "      gap: 12px;\n",
              "    }\n",
              "\n",
              "    .colab-df-convert {\n",
              "      background-color: #E8F0FE;\n",
              "      border: none;\n",
              "      border-radius: 50%;\n",
              "      cursor: pointer;\n",
              "      display: none;\n",
              "      fill: #1967D2;\n",
              "      height: 32px;\n",
              "      padding: 0 0 0 0;\n",
              "      width: 32px;\n",
              "    }\n",
              "\n",
              "    .colab-df-convert:hover {\n",
              "      background-color: #E2EBFA;\n",
              "      box-shadow: 0px 1px 2px rgba(60, 64, 67, 0.3), 0px 1px 3px 1px rgba(60, 64, 67, 0.15);\n",
              "      fill: #174EA6;\n",
              "    }\n",
              "\n",
              "    [theme=dark] .colab-df-convert {\n",
              "      background-color: #3B4455;\n",
              "      fill: #D2E3FC;\n",
              "    }\n",
              "\n",
              "    [theme=dark] .colab-df-convert:hover {\n",
              "      background-color: #434B5C;\n",
              "      box-shadow: 0px 1px 3px 1px rgba(0, 0, 0, 0.15);\n",
              "      filter: drop-shadow(0px 1px 2px rgba(0, 0, 0, 0.3));\n",
              "      fill: #FFFFFF;\n",
              "    }\n",
              "  </style>\n",
              "\n",
              "      <script>\n",
              "        const buttonEl =\n",
              "          document.querySelector('#df-1a4d4e94-ea8f-4e46-b657-adc860753185 button.colab-df-convert');\n",
              "        buttonEl.style.display =\n",
              "          google.colab.kernel.accessAllowed ? 'block' : 'none';\n",
              "\n",
              "        async function convertToInteractive(key) {\n",
              "          const element = document.querySelector('#df-1a4d4e94-ea8f-4e46-b657-adc860753185');\n",
              "          const dataTable =\n",
              "            await google.colab.kernel.invokeFunction('convertToInteractive',\n",
              "                                                     [key], {});\n",
              "          if (!dataTable) return;\n",
              "\n",
              "          const docLinkHtml = 'Like what you see? Visit the ' +\n",
              "            '<a target=\"_blank\" href=https://colab.research.google.com/notebooks/data_table.ipynb>data table notebook</a>'\n",
              "            + ' to learn more about interactive tables.';\n",
              "          element.innerHTML = '';\n",
              "          dataTable['output_type'] = 'display_data';\n",
              "          await google.colab.output.renderOutput(dataTable, element);\n",
              "          const docLink = document.createElement('div');\n",
              "          docLink.innerHTML = docLinkHtml;\n",
              "          element.appendChild(docLink);\n",
              "        }\n",
              "      </script>\n",
              "    </div>\n",
              "  </div>\n",
              "  "
            ]
          },
          "metadata": {},
          "execution_count": 110
        }
      ],
      "source": [
        "import numpy as np\n",
        "import pandas as pd\n",
        "df=pd.read_csv('/content/Iris.csv')\n",
        "df"
      ]
    },
    {
      "cell_type": "code",
      "source": [
        "df.head()"
      ],
      "metadata": {
        "colab": {
          "base_uri": "https://localhost:8080/",
          "height": 206
        },
        "id": "vfh7ISUzIwQU",
        "outputId": "c802c2b8-87ee-4fab-abcf-51d8249bfb68"
      },
      "execution_count": 111,
      "outputs": [
        {
          "output_type": "execute_result",
          "data": {
            "text/plain": [
              "   Id  SepalLengthCm  SepalWidthCm  PetalLengthCm  PetalWidthCm      Species\n",
              "0   1            5.1           3.5            1.4           0.2  Iris-setosa\n",
              "1   2            4.9           3.0            1.4           0.2  Iris-setosa\n",
              "2   3            4.7           3.2            1.3           0.2  Iris-setosa\n",
              "3   4            4.6           3.1            1.5           0.2  Iris-setosa\n",
              "4   5            5.0           3.6            1.4           0.2  Iris-setosa"
            ],
            "text/html": [
              "\n",
              "  <div id=\"df-6b141e13-1058-45cf-a06c-55369ff20967\">\n",
              "    <div class=\"colab-df-container\">\n",
              "      <div>\n",
              "<style scoped>\n",
              "    .dataframe tbody tr th:only-of-type {\n",
              "        vertical-align: middle;\n",
              "    }\n",
              "\n",
              "    .dataframe tbody tr th {\n",
              "        vertical-align: top;\n",
              "    }\n",
              "\n",
              "    .dataframe thead th {\n",
              "        text-align: right;\n",
              "    }\n",
              "</style>\n",
              "<table border=\"1\" class=\"dataframe\">\n",
              "  <thead>\n",
              "    <tr style=\"text-align: right;\">\n",
              "      <th></th>\n",
              "      <th>Id</th>\n",
              "      <th>SepalLengthCm</th>\n",
              "      <th>SepalWidthCm</th>\n",
              "      <th>PetalLengthCm</th>\n",
              "      <th>PetalWidthCm</th>\n",
              "      <th>Species</th>\n",
              "    </tr>\n",
              "  </thead>\n",
              "  <tbody>\n",
              "    <tr>\n",
              "      <th>0</th>\n",
              "      <td>1</td>\n",
              "      <td>5.1</td>\n",
              "      <td>3.5</td>\n",
              "      <td>1.4</td>\n",
              "      <td>0.2</td>\n",
              "      <td>Iris-setosa</td>\n",
              "    </tr>\n",
              "    <tr>\n",
              "      <th>1</th>\n",
              "      <td>2</td>\n",
              "      <td>4.9</td>\n",
              "      <td>3.0</td>\n",
              "      <td>1.4</td>\n",
              "      <td>0.2</td>\n",
              "      <td>Iris-setosa</td>\n",
              "    </tr>\n",
              "    <tr>\n",
              "      <th>2</th>\n",
              "      <td>3</td>\n",
              "      <td>4.7</td>\n",
              "      <td>3.2</td>\n",
              "      <td>1.3</td>\n",
              "      <td>0.2</td>\n",
              "      <td>Iris-setosa</td>\n",
              "    </tr>\n",
              "    <tr>\n",
              "      <th>3</th>\n",
              "      <td>4</td>\n",
              "      <td>4.6</td>\n",
              "      <td>3.1</td>\n",
              "      <td>1.5</td>\n",
              "      <td>0.2</td>\n",
              "      <td>Iris-setosa</td>\n",
              "    </tr>\n",
              "    <tr>\n",
              "      <th>4</th>\n",
              "      <td>5</td>\n",
              "      <td>5.0</td>\n",
              "      <td>3.6</td>\n",
              "      <td>1.4</td>\n",
              "      <td>0.2</td>\n",
              "      <td>Iris-setosa</td>\n",
              "    </tr>\n",
              "  </tbody>\n",
              "</table>\n",
              "</div>\n",
              "      <button class=\"colab-df-convert\" onclick=\"convertToInteractive('df-6b141e13-1058-45cf-a06c-55369ff20967')\"\n",
              "              title=\"Convert this dataframe to an interactive table.\"\n",
              "              style=\"display:none;\">\n",
              "        \n",
              "  <svg xmlns=\"http://www.w3.org/2000/svg\" height=\"24px\"viewBox=\"0 0 24 24\"\n",
              "       width=\"24px\">\n",
              "    <path d=\"M0 0h24v24H0V0z\" fill=\"none\"/>\n",
              "    <path d=\"M18.56 5.44l.94 2.06.94-2.06 2.06-.94-2.06-.94-.94-2.06-.94 2.06-2.06.94zm-11 1L8.5 8.5l.94-2.06 2.06-.94-2.06-.94L8.5 2.5l-.94 2.06-2.06.94zm10 10l.94 2.06.94-2.06 2.06-.94-2.06-.94-.94-2.06-.94 2.06-2.06.94z\"/><path d=\"M17.41 7.96l-1.37-1.37c-.4-.4-.92-.59-1.43-.59-.52 0-1.04.2-1.43.59L10.3 9.45l-7.72 7.72c-.78.78-.78 2.05 0 2.83L4 21.41c.39.39.9.59 1.41.59.51 0 1.02-.2 1.41-.59l7.78-7.78 2.81-2.81c.8-.78.8-2.07 0-2.86zM5.41 20L4 18.59l7.72-7.72 1.47 1.35L5.41 20z\"/>\n",
              "  </svg>\n",
              "      </button>\n",
              "      \n",
              "  <style>\n",
              "    .colab-df-container {\n",
              "      display:flex;\n",
              "      flex-wrap:wrap;\n",
              "      gap: 12px;\n",
              "    }\n",
              "\n",
              "    .colab-df-convert {\n",
              "      background-color: #E8F0FE;\n",
              "      border: none;\n",
              "      border-radius: 50%;\n",
              "      cursor: pointer;\n",
              "      display: none;\n",
              "      fill: #1967D2;\n",
              "      height: 32px;\n",
              "      padding: 0 0 0 0;\n",
              "      width: 32px;\n",
              "    }\n",
              "\n",
              "    .colab-df-convert:hover {\n",
              "      background-color: #E2EBFA;\n",
              "      box-shadow: 0px 1px 2px rgba(60, 64, 67, 0.3), 0px 1px 3px 1px rgba(60, 64, 67, 0.15);\n",
              "      fill: #174EA6;\n",
              "    }\n",
              "\n",
              "    [theme=dark] .colab-df-convert {\n",
              "      background-color: #3B4455;\n",
              "      fill: #D2E3FC;\n",
              "    }\n",
              "\n",
              "    [theme=dark] .colab-df-convert:hover {\n",
              "      background-color: #434B5C;\n",
              "      box-shadow: 0px 1px 3px 1px rgba(0, 0, 0, 0.15);\n",
              "      filter: drop-shadow(0px 1px 2px rgba(0, 0, 0, 0.3));\n",
              "      fill: #FFFFFF;\n",
              "    }\n",
              "  </style>\n",
              "\n",
              "      <script>\n",
              "        const buttonEl =\n",
              "          document.querySelector('#df-6b141e13-1058-45cf-a06c-55369ff20967 button.colab-df-convert');\n",
              "        buttonEl.style.display =\n",
              "          google.colab.kernel.accessAllowed ? 'block' : 'none';\n",
              "\n",
              "        async function convertToInteractive(key) {\n",
              "          const element = document.querySelector('#df-6b141e13-1058-45cf-a06c-55369ff20967');\n",
              "          const dataTable =\n",
              "            await google.colab.kernel.invokeFunction('convertToInteractive',\n",
              "                                                     [key], {});\n",
              "          if (!dataTable) return;\n",
              "\n",
              "          const docLinkHtml = 'Like what you see? Visit the ' +\n",
              "            '<a target=\"_blank\" href=https://colab.research.google.com/notebooks/data_table.ipynb>data table notebook</a>'\n",
              "            + ' to learn more about interactive tables.';\n",
              "          element.innerHTML = '';\n",
              "          dataTable['output_type'] = 'display_data';\n",
              "          await google.colab.output.renderOutput(dataTable, element);\n",
              "          const docLink = document.createElement('div');\n",
              "          docLink.innerHTML = docLinkHtml;\n",
              "          element.appendChild(docLink);\n",
              "        }\n",
              "      </script>\n",
              "    </div>\n",
              "  </div>\n",
              "  "
            ]
          },
          "metadata": {},
          "execution_count": 111
        }
      ]
    },
    {
      "cell_type": "code",
      "source": [
        "df.tail()"
      ],
      "metadata": {
        "colab": {
          "base_uri": "https://localhost:8080/",
          "height": 206
        },
        "id": "fWXgFl-fIwXg",
        "outputId": "3738bca2-7fd1-4773-8346-361a37a5d915"
      },
      "execution_count": 112,
      "outputs": [
        {
          "output_type": "execute_result",
          "data": {
            "text/plain": [
              "      Id  SepalLengthCm  SepalWidthCm  PetalLengthCm  PetalWidthCm  \\\n",
              "145  146            6.7           3.0            5.2           2.3   \n",
              "146  147            6.3           2.5            5.0           1.9   \n",
              "147  148            6.5           3.0            5.2           2.0   \n",
              "148  149            6.2           3.4            5.4           2.3   \n",
              "149  150            5.9           3.0            5.1           1.8   \n",
              "\n",
              "            Species  \n",
              "145  Iris-virginica  \n",
              "146  Iris-virginica  \n",
              "147  Iris-virginica  \n",
              "148  Iris-virginica  \n",
              "149  Iris-virginica  "
            ],
            "text/html": [
              "\n",
              "  <div id=\"df-50b0f7c7-c885-4604-a0d5-a225e84f2a8a\">\n",
              "    <div class=\"colab-df-container\">\n",
              "      <div>\n",
              "<style scoped>\n",
              "    .dataframe tbody tr th:only-of-type {\n",
              "        vertical-align: middle;\n",
              "    }\n",
              "\n",
              "    .dataframe tbody tr th {\n",
              "        vertical-align: top;\n",
              "    }\n",
              "\n",
              "    .dataframe thead th {\n",
              "        text-align: right;\n",
              "    }\n",
              "</style>\n",
              "<table border=\"1\" class=\"dataframe\">\n",
              "  <thead>\n",
              "    <tr style=\"text-align: right;\">\n",
              "      <th></th>\n",
              "      <th>Id</th>\n",
              "      <th>SepalLengthCm</th>\n",
              "      <th>SepalWidthCm</th>\n",
              "      <th>PetalLengthCm</th>\n",
              "      <th>PetalWidthCm</th>\n",
              "      <th>Species</th>\n",
              "    </tr>\n",
              "  </thead>\n",
              "  <tbody>\n",
              "    <tr>\n",
              "      <th>145</th>\n",
              "      <td>146</td>\n",
              "      <td>6.7</td>\n",
              "      <td>3.0</td>\n",
              "      <td>5.2</td>\n",
              "      <td>2.3</td>\n",
              "      <td>Iris-virginica</td>\n",
              "    </tr>\n",
              "    <tr>\n",
              "      <th>146</th>\n",
              "      <td>147</td>\n",
              "      <td>6.3</td>\n",
              "      <td>2.5</td>\n",
              "      <td>5.0</td>\n",
              "      <td>1.9</td>\n",
              "      <td>Iris-virginica</td>\n",
              "    </tr>\n",
              "    <tr>\n",
              "      <th>147</th>\n",
              "      <td>148</td>\n",
              "      <td>6.5</td>\n",
              "      <td>3.0</td>\n",
              "      <td>5.2</td>\n",
              "      <td>2.0</td>\n",
              "      <td>Iris-virginica</td>\n",
              "    </tr>\n",
              "    <tr>\n",
              "      <th>148</th>\n",
              "      <td>149</td>\n",
              "      <td>6.2</td>\n",
              "      <td>3.4</td>\n",
              "      <td>5.4</td>\n",
              "      <td>2.3</td>\n",
              "      <td>Iris-virginica</td>\n",
              "    </tr>\n",
              "    <tr>\n",
              "      <th>149</th>\n",
              "      <td>150</td>\n",
              "      <td>5.9</td>\n",
              "      <td>3.0</td>\n",
              "      <td>5.1</td>\n",
              "      <td>1.8</td>\n",
              "      <td>Iris-virginica</td>\n",
              "    </tr>\n",
              "  </tbody>\n",
              "</table>\n",
              "</div>\n",
              "      <button class=\"colab-df-convert\" onclick=\"convertToInteractive('df-50b0f7c7-c885-4604-a0d5-a225e84f2a8a')\"\n",
              "              title=\"Convert this dataframe to an interactive table.\"\n",
              "              style=\"display:none;\">\n",
              "        \n",
              "  <svg xmlns=\"http://www.w3.org/2000/svg\" height=\"24px\"viewBox=\"0 0 24 24\"\n",
              "       width=\"24px\">\n",
              "    <path d=\"M0 0h24v24H0V0z\" fill=\"none\"/>\n",
              "    <path d=\"M18.56 5.44l.94 2.06.94-2.06 2.06-.94-2.06-.94-.94-2.06-.94 2.06-2.06.94zm-11 1L8.5 8.5l.94-2.06 2.06-.94-2.06-.94L8.5 2.5l-.94 2.06-2.06.94zm10 10l.94 2.06.94-2.06 2.06-.94-2.06-.94-.94-2.06-.94 2.06-2.06.94z\"/><path d=\"M17.41 7.96l-1.37-1.37c-.4-.4-.92-.59-1.43-.59-.52 0-1.04.2-1.43.59L10.3 9.45l-7.72 7.72c-.78.78-.78 2.05 0 2.83L4 21.41c.39.39.9.59 1.41.59.51 0 1.02-.2 1.41-.59l7.78-7.78 2.81-2.81c.8-.78.8-2.07 0-2.86zM5.41 20L4 18.59l7.72-7.72 1.47 1.35L5.41 20z\"/>\n",
              "  </svg>\n",
              "      </button>\n",
              "      \n",
              "  <style>\n",
              "    .colab-df-container {\n",
              "      display:flex;\n",
              "      flex-wrap:wrap;\n",
              "      gap: 12px;\n",
              "    }\n",
              "\n",
              "    .colab-df-convert {\n",
              "      background-color: #E8F0FE;\n",
              "      border: none;\n",
              "      border-radius: 50%;\n",
              "      cursor: pointer;\n",
              "      display: none;\n",
              "      fill: #1967D2;\n",
              "      height: 32px;\n",
              "      padding: 0 0 0 0;\n",
              "      width: 32px;\n",
              "    }\n",
              "\n",
              "    .colab-df-convert:hover {\n",
              "      background-color: #E2EBFA;\n",
              "      box-shadow: 0px 1px 2px rgba(60, 64, 67, 0.3), 0px 1px 3px 1px rgba(60, 64, 67, 0.15);\n",
              "      fill: #174EA6;\n",
              "    }\n",
              "\n",
              "    [theme=dark] .colab-df-convert {\n",
              "      background-color: #3B4455;\n",
              "      fill: #D2E3FC;\n",
              "    }\n",
              "\n",
              "    [theme=dark] .colab-df-convert:hover {\n",
              "      background-color: #434B5C;\n",
              "      box-shadow: 0px 1px 3px 1px rgba(0, 0, 0, 0.15);\n",
              "      filter: drop-shadow(0px 1px 2px rgba(0, 0, 0, 0.3));\n",
              "      fill: #FFFFFF;\n",
              "    }\n",
              "  </style>\n",
              "\n",
              "      <script>\n",
              "        const buttonEl =\n",
              "          document.querySelector('#df-50b0f7c7-c885-4604-a0d5-a225e84f2a8a button.colab-df-convert');\n",
              "        buttonEl.style.display =\n",
              "          google.colab.kernel.accessAllowed ? 'block' : 'none';\n",
              "\n",
              "        async function convertToInteractive(key) {\n",
              "          const element = document.querySelector('#df-50b0f7c7-c885-4604-a0d5-a225e84f2a8a');\n",
              "          const dataTable =\n",
              "            await google.colab.kernel.invokeFunction('convertToInteractive',\n",
              "                                                     [key], {});\n",
              "          if (!dataTable) return;\n",
              "\n",
              "          const docLinkHtml = 'Like what you see? Visit the ' +\n",
              "            '<a target=\"_blank\" href=https://colab.research.google.com/notebooks/data_table.ipynb>data table notebook</a>'\n",
              "            + ' to learn more about interactive tables.';\n",
              "          element.innerHTML = '';\n",
              "          dataTable['output_type'] = 'display_data';\n",
              "          await google.colab.output.renderOutput(dataTable, element);\n",
              "          const docLink = document.createElement('div');\n",
              "          docLink.innerHTML = docLinkHtml;\n",
              "          element.appendChild(docLink);\n",
              "        }\n",
              "      </script>\n",
              "    </div>\n",
              "  </div>\n",
              "  "
            ]
          },
          "metadata": {},
          "execution_count": 112
        }
      ]
    },
    {
      "cell_type": "code",
      "source": [
        "df.columns"
      ],
      "metadata": {
        "colab": {
          "base_uri": "https://localhost:8080/"
        },
        "id": "FC0dUUPfIwgm",
        "outputId": "a5e7c0d1-f7f3-4915-b574-7ecc3469f0cb"
      },
      "execution_count": 113,
      "outputs": [
        {
          "output_type": "execute_result",
          "data": {
            "text/plain": [
              "Index(['Id', 'SepalLengthCm', 'SepalWidthCm', 'PetalLengthCm', 'PetalWidthCm',\n",
              "       'Species'],\n",
              "      dtype='object')"
            ]
          },
          "metadata": {},
          "execution_count": 113
        }
      ]
    },
    {
      "cell_type": "code",
      "source": [
        "df.isna().sum()"
      ],
      "metadata": {
        "colab": {
          "base_uri": "https://localhost:8080/"
        },
        "id": "n49ehXlWJCQJ",
        "outputId": "5b25aef3-102e-45b7-f2eb-596fd09730e7"
      },
      "execution_count": 114,
      "outputs": [
        {
          "output_type": "execute_result",
          "data": {
            "text/plain": [
              "Id               0\n",
              "SepalLengthCm    0\n",
              "SepalWidthCm     0\n",
              "PetalLengthCm    0\n",
              "PetalWidthCm     0\n",
              "Species          0\n",
              "dtype: int64"
            ]
          },
          "metadata": {},
          "execution_count": 114
        }
      ]
    },
    {
      "cell_type": "code",
      "source": [
        "df.info()"
      ],
      "metadata": {
        "colab": {
          "base_uri": "https://localhost:8080/"
        },
        "id": "ARStN7-0JI5T",
        "outputId": "785679d0-b3ef-41a7-9f30-bbed0a255c48"
      },
      "execution_count": 115,
      "outputs": [
        {
          "output_type": "stream",
          "name": "stdout",
          "text": [
            "<class 'pandas.core.frame.DataFrame'>\n",
            "RangeIndex: 150 entries, 0 to 149\n",
            "Data columns (total 6 columns):\n",
            " #   Column         Non-Null Count  Dtype  \n",
            "---  ------         --------------  -----  \n",
            " 0   Id             150 non-null    int64  \n",
            " 1   SepalLengthCm  150 non-null    float64\n",
            " 2   SepalWidthCm   150 non-null    float64\n",
            " 3   PetalLengthCm  150 non-null    float64\n",
            " 4   PetalWidthCm   150 non-null    float64\n",
            " 5   Species        150 non-null    object \n",
            "dtypes: float64(4), int64(1), object(1)\n",
            "memory usage: 7.2+ KB\n"
          ]
        }
      ]
    },
    {
      "cell_type": "code",
      "source": [
        "x=df.iloc[:,1 :-1].values\n",
        "x"
      ],
      "metadata": {
        "colab": {
          "base_uri": "https://localhost:8080/"
        },
        "id": "1zvHeMvPJNee",
        "outputId": "ce405f1f-e9ea-4abb-9486-366ab129d93f"
      },
      "execution_count": 116,
      "outputs": [
        {
          "output_type": "execute_result",
          "data": {
            "text/plain": [
              "array([[5.1, 3.5, 1.4, 0.2],\n",
              "       [4.9, 3. , 1.4, 0.2],\n",
              "       [4.7, 3.2, 1.3, 0.2],\n",
              "       [4.6, 3.1, 1.5, 0.2],\n",
              "       [5. , 3.6, 1.4, 0.2],\n",
              "       [5.4, 3.9, 1.7, 0.4],\n",
              "       [4.6, 3.4, 1.4, 0.3],\n",
              "       [5. , 3.4, 1.5, 0.2],\n",
              "       [4.4, 2.9, 1.4, 0.2],\n",
              "       [4.9, 3.1, 1.5, 0.1],\n",
              "       [5.4, 3.7, 1.5, 0.2],\n",
              "       [4.8, 3.4, 1.6, 0.2],\n",
              "       [4.8, 3. , 1.4, 0.1],\n",
              "       [4.3, 3. , 1.1, 0.1],\n",
              "       [5.8, 4. , 1.2, 0.2],\n",
              "       [5.7, 4.4, 1.5, 0.4],\n",
              "       [5.4, 3.9, 1.3, 0.4],\n",
              "       [5.1, 3.5, 1.4, 0.3],\n",
              "       [5.7, 3.8, 1.7, 0.3],\n",
              "       [5.1, 3.8, 1.5, 0.3],\n",
              "       [5.4, 3.4, 1.7, 0.2],\n",
              "       [5.1, 3.7, 1.5, 0.4],\n",
              "       [4.6, 3.6, 1. , 0.2],\n",
              "       [5.1, 3.3, 1.7, 0.5],\n",
              "       [4.8, 3.4, 1.9, 0.2],\n",
              "       [5. , 3. , 1.6, 0.2],\n",
              "       [5. , 3.4, 1.6, 0.4],\n",
              "       [5.2, 3.5, 1.5, 0.2],\n",
              "       [5.2, 3.4, 1.4, 0.2],\n",
              "       [4.7, 3.2, 1.6, 0.2],\n",
              "       [4.8, 3.1, 1.6, 0.2],\n",
              "       [5.4, 3.4, 1.5, 0.4],\n",
              "       [5.2, 4.1, 1.5, 0.1],\n",
              "       [5.5, 4.2, 1.4, 0.2],\n",
              "       [4.9, 3.1, 1.5, 0.1],\n",
              "       [5. , 3.2, 1.2, 0.2],\n",
              "       [5.5, 3.5, 1.3, 0.2],\n",
              "       [4.9, 3.1, 1.5, 0.1],\n",
              "       [4.4, 3. , 1.3, 0.2],\n",
              "       [5.1, 3.4, 1.5, 0.2],\n",
              "       [5. , 3.5, 1.3, 0.3],\n",
              "       [4.5, 2.3, 1.3, 0.3],\n",
              "       [4.4, 3.2, 1.3, 0.2],\n",
              "       [5. , 3.5, 1.6, 0.6],\n",
              "       [5.1, 3.8, 1.9, 0.4],\n",
              "       [4.8, 3. , 1.4, 0.3],\n",
              "       [5.1, 3.8, 1.6, 0.2],\n",
              "       [4.6, 3.2, 1.4, 0.2],\n",
              "       [5.3, 3.7, 1.5, 0.2],\n",
              "       [5. , 3.3, 1.4, 0.2],\n",
              "       [7. , 3.2, 4.7, 1.4],\n",
              "       [6.4, 3.2, 4.5, 1.5],\n",
              "       [6.9, 3.1, 4.9, 1.5],\n",
              "       [5.5, 2.3, 4. , 1.3],\n",
              "       [6.5, 2.8, 4.6, 1.5],\n",
              "       [5.7, 2.8, 4.5, 1.3],\n",
              "       [6.3, 3.3, 4.7, 1.6],\n",
              "       [4.9, 2.4, 3.3, 1. ],\n",
              "       [6.6, 2.9, 4.6, 1.3],\n",
              "       [5.2, 2.7, 3.9, 1.4],\n",
              "       [5. , 2. , 3.5, 1. ],\n",
              "       [5.9, 3. , 4.2, 1.5],\n",
              "       [6. , 2.2, 4. , 1. ],\n",
              "       [6.1, 2.9, 4.7, 1.4],\n",
              "       [5.6, 2.9, 3.6, 1.3],\n",
              "       [6.7, 3.1, 4.4, 1.4],\n",
              "       [5.6, 3. , 4.5, 1.5],\n",
              "       [5.8, 2.7, 4.1, 1. ],\n",
              "       [6.2, 2.2, 4.5, 1.5],\n",
              "       [5.6, 2.5, 3.9, 1.1],\n",
              "       [5.9, 3.2, 4.8, 1.8],\n",
              "       [6.1, 2.8, 4. , 1.3],\n",
              "       [6.3, 2.5, 4.9, 1.5],\n",
              "       [6.1, 2.8, 4.7, 1.2],\n",
              "       [6.4, 2.9, 4.3, 1.3],\n",
              "       [6.6, 3. , 4.4, 1.4],\n",
              "       [6.8, 2.8, 4.8, 1.4],\n",
              "       [6.7, 3. , 5. , 1.7],\n",
              "       [6. , 2.9, 4.5, 1.5],\n",
              "       [5.7, 2.6, 3.5, 1. ],\n",
              "       [5.5, 2.4, 3.8, 1.1],\n",
              "       [5.5, 2.4, 3.7, 1. ],\n",
              "       [5.8, 2.7, 3.9, 1.2],\n",
              "       [6. , 2.7, 5.1, 1.6],\n",
              "       [5.4, 3. , 4.5, 1.5],\n",
              "       [6. , 3.4, 4.5, 1.6],\n",
              "       [6.7, 3.1, 4.7, 1.5],\n",
              "       [6.3, 2.3, 4.4, 1.3],\n",
              "       [5.6, 3. , 4.1, 1.3],\n",
              "       [5.5, 2.5, 4. , 1.3],\n",
              "       [5.5, 2.6, 4.4, 1.2],\n",
              "       [6.1, 3. , 4.6, 1.4],\n",
              "       [5.8, 2.6, 4. , 1.2],\n",
              "       [5. , 2.3, 3.3, 1. ],\n",
              "       [5.6, 2.7, 4.2, 1.3],\n",
              "       [5.7, 3. , 4.2, 1.2],\n",
              "       [5.7, 2.9, 4.2, 1.3],\n",
              "       [6.2, 2.9, 4.3, 1.3],\n",
              "       [5.1, 2.5, 3. , 1.1],\n",
              "       [5.7, 2.8, 4.1, 1.3],\n",
              "       [6.3, 3.3, 6. , 2.5],\n",
              "       [5.8, 2.7, 5.1, 1.9],\n",
              "       [7.1, 3. , 5.9, 2.1],\n",
              "       [6.3, 2.9, 5.6, 1.8],\n",
              "       [6.5, 3. , 5.8, 2.2],\n",
              "       [7.6, 3. , 6.6, 2.1],\n",
              "       [4.9, 2.5, 4.5, 1.7],\n",
              "       [7.3, 2.9, 6.3, 1.8],\n",
              "       [6.7, 2.5, 5.8, 1.8],\n",
              "       [7.2, 3.6, 6.1, 2.5],\n",
              "       [6.5, 3.2, 5.1, 2. ],\n",
              "       [6.4, 2.7, 5.3, 1.9],\n",
              "       [6.8, 3. , 5.5, 2.1],\n",
              "       [5.7, 2.5, 5. , 2. ],\n",
              "       [5.8, 2.8, 5.1, 2.4],\n",
              "       [6.4, 3.2, 5.3, 2.3],\n",
              "       [6.5, 3. , 5.5, 1.8],\n",
              "       [7.7, 3.8, 6.7, 2.2],\n",
              "       [7.7, 2.6, 6.9, 2.3],\n",
              "       [6. , 2.2, 5. , 1.5],\n",
              "       [6.9, 3.2, 5.7, 2.3],\n",
              "       [5.6, 2.8, 4.9, 2. ],\n",
              "       [7.7, 2.8, 6.7, 2. ],\n",
              "       [6.3, 2.7, 4.9, 1.8],\n",
              "       [6.7, 3.3, 5.7, 2.1],\n",
              "       [7.2, 3.2, 6. , 1.8],\n",
              "       [6.2, 2.8, 4.8, 1.8],\n",
              "       [6.1, 3. , 4.9, 1.8],\n",
              "       [6.4, 2.8, 5.6, 2.1],\n",
              "       [7.2, 3. , 5.8, 1.6],\n",
              "       [7.4, 2.8, 6.1, 1.9],\n",
              "       [7.9, 3.8, 6.4, 2. ],\n",
              "       [6.4, 2.8, 5.6, 2.2],\n",
              "       [6.3, 2.8, 5.1, 1.5],\n",
              "       [6.1, 2.6, 5.6, 1.4],\n",
              "       [7.7, 3. , 6.1, 2.3],\n",
              "       [6.3, 3.4, 5.6, 2.4],\n",
              "       [6.4, 3.1, 5.5, 1.8],\n",
              "       [6. , 3. , 4.8, 1.8],\n",
              "       [6.9, 3.1, 5.4, 2.1],\n",
              "       [6.7, 3.1, 5.6, 2.4],\n",
              "       [6.9, 3.1, 5.1, 2.3],\n",
              "       [5.8, 2.7, 5.1, 1.9],\n",
              "       [6.8, 3.2, 5.9, 2.3],\n",
              "       [6.7, 3.3, 5.7, 2.5],\n",
              "       [6.7, 3. , 5.2, 2.3],\n",
              "       [6.3, 2.5, 5. , 1.9],\n",
              "       [6.5, 3. , 5.2, 2. ],\n",
              "       [6.2, 3.4, 5.4, 2.3],\n",
              "       [5.9, 3. , 5.1, 1.8]])"
            ]
          },
          "metadata": {},
          "execution_count": 116
        }
      ]
    },
    {
      "cell_type": "code",
      "source": [
        "y=df.iloc[:,-1]\n",
        "y"
      ],
      "metadata": {
        "colab": {
          "base_uri": "https://localhost:8080/"
        },
        "id": "e3kJus9WJgdw",
        "outputId": "a3938f78-a265-4e60-b6c0-a3941627cd7e"
      },
      "execution_count": 117,
      "outputs": [
        {
          "output_type": "execute_result",
          "data": {
            "text/plain": [
              "0         Iris-setosa\n",
              "1         Iris-setosa\n",
              "2         Iris-setosa\n",
              "3         Iris-setosa\n",
              "4         Iris-setosa\n",
              "            ...      \n",
              "145    Iris-virginica\n",
              "146    Iris-virginica\n",
              "147    Iris-virginica\n",
              "148    Iris-virginica\n",
              "149    Iris-virginica\n",
              "Name: Species, Length: 150, dtype: object"
            ]
          },
          "metadata": {},
          "execution_count": 117
        }
      ]
    },
    {
      "cell_type": "code",
      "source": [
        "x.ndim"
      ],
      "metadata": {
        "colab": {
          "base_uri": "https://localhost:8080/"
        },
        "id": "kNz1MRDLJsWl",
        "outputId": "81861cff-ebad-437b-ae60-6a135091c722"
      },
      "execution_count": 118,
      "outputs": [
        {
          "output_type": "execute_result",
          "data": {
            "text/plain": [
              "2"
            ]
          },
          "metadata": {},
          "execution_count": 118
        }
      ]
    },
    {
      "cell_type": "code",
      "source": [
        "y.ndim"
      ],
      "metadata": {
        "colab": {
          "base_uri": "https://localhost:8080/"
        },
        "id": "yy3foq_tJwN_",
        "outputId": "a924870f-6a8f-4d1b-8b81-a79dbfebe713"
      },
      "execution_count": 119,
      "outputs": [
        {
          "output_type": "execute_result",
          "data": {
            "text/plain": [
              "1"
            ]
          },
          "metadata": {},
          "execution_count": 119
        }
      ]
    },
    {
      "cell_type": "code",
      "source": [
        "from sklearn.model_selection import train_test_split\n",
        "x_train,x_test,y_train,y_test=train_test_split(x,y,test_size=0.30,random_state=1)\n",
        "x_train"
      ],
      "metadata": {
        "colab": {
          "base_uri": "https://localhost:8080/"
        },
        "id": "yFesPGocKuRh",
        "outputId": "6704def1-94fd-40de-8b3a-a28260bbf74a"
      },
      "execution_count": 120,
      "outputs": [
        {
          "output_type": "execute_result",
          "data": {
            "text/plain": [
              "array([[7.7, 2.6, 6.9, 2.3],\n",
              "       [5.7, 3.8, 1.7, 0.3],\n",
              "       [5. , 3.6, 1.4, 0.2],\n",
              "       [4.8, 3. , 1.4, 0.3],\n",
              "       [5.2, 2.7, 3.9, 1.4],\n",
              "       [5.1, 3.4, 1.5, 0.2],\n",
              "       [5.5, 3.5, 1.3, 0.2],\n",
              "       [7.7, 3.8, 6.7, 2.2],\n",
              "       [6.9, 3.1, 5.4, 2.1],\n",
              "       [7.3, 2.9, 6.3, 1.8],\n",
              "       [6.4, 2.8, 5.6, 2.2],\n",
              "       [6.2, 2.8, 4.8, 1.8],\n",
              "       [6. , 3.4, 4.5, 1.6],\n",
              "       [7.7, 2.8, 6.7, 2. ],\n",
              "       [5.7, 3. , 4.2, 1.2],\n",
              "       [4.8, 3.4, 1.6, 0.2],\n",
              "       [5.7, 2.5, 5. , 2. ],\n",
              "       [6.3, 2.7, 4.9, 1.8],\n",
              "       [4.8, 3. , 1.4, 0.1],\n",
              "       [4.7, 3.2, 1.3, 0.2],\n",
              "       [6.5, 3. , 5.8, 2.2],\n",
              "       [4.6, 3.4, 1.4, 0.3],\n",
              "       [6.1, 3. , 4.9, 1.8],\n",
              "       [6.5, 3.2, 5.1, 2. ],\n",
              "       [6.7, 3.1, 4.4, 1.4],\n",
              "       [5.7, 2.8, 4.5, 1.3],\n",
              "       [6.7, 3.3, 5.7, 2.5],\n",
              "       [6. , 3. , 4.8, 1.8],\n",
              "       [5.1, 3.8, 1.6, 0.2],\n",
              "       [6. , 2.2, 4. , 1. ],\n",
              "       [6.4, 2.9, 4.3, 1.3],\n",
              "       [6.5, 3. , 5.5, 1.8],\n",
              "       [5. , 2.3, 3.3, 1. ],\n",
              "       [6.3, 3.3, 6. , 2.5],\n",
              "       [5.5, 2.5, 4. , 1.3],\n",
              "       [5.4, 3.7, 1.5, 0.2],\n",
              "       [4.9, 3.1, 1.5, 0.1],\n",
              "       [5.2, 4.1, 1.5, 0.1],\n",
              "       [6.7, 3.3, 5.7, 2.1],\n",
              "       [4.4, 3. , 1.3, 0.2],\n",
              "       [6. , 2.7, 5.1, 1.6],\n",
              "       [6.4, 2.7, 5.3, 1.9],\n",
              "       [5.9, 3. , 5.1, 1.8],\n",
              "       [5.2, 3.5, 1.5, 0.2],\n",
              "       [5.1, 3.3, 1.7, 0.5],\n",
              "       [5.8, 2.7, 4.1, 1. ],\n",
              "       [4.9, 3.1, 1.5, 0.1],\n",
              "       [7.4, 2.8, 6.1, 1.9],\n",
              "       [6.2, 2.9, 4.3, 1.3],\n",
              "       [7.6, 3. , 6.6, 2.1],\n",
              "       [6.7, 3. , 5.2, 2.3],\n",
              "       [6.3, 2.3, 4.4, 1.3],\n",
              "       [6.2, 3.4, 5.4, 2.3],\n",
              "       [7.2, 3.6, 6.1, 2.5],\n",
              "       [5.6, 2.9, 3.6, 1.3],\n",
              "       [5.7, 4.4, 1.5, 0.4],\n",
              "       [5.8, 2.7, 3.9, 1.2],\n",
              "       [4.5, 2.3, 1.3, 0.3],\n",
              "       [5.5, 2.4, 3.8, 1.1],\n",
              "       [6.9, 3.1, 4.9, 1.5],\n",
              "       [5. , 3.4, 1.6, 0.4],\n",
              "       [6.8, 2.8, 4.8, 1.4],\n",
              "       [5. , 3.5, 1.6, 0.6],\n",
              "       [4.8, 3.4, 1.9, 0.2],\n",
              "       [6.3, 3.4, 5.6, 2.4],\n",
              "       [5.6, 2.8, 4.9, 2. ],\n",
              "       [6.8, 3.2, 5.9, 2.3],\n",
              "       [5. , 3.3, 1.4, 0.2],\n",
              "       [5.1, 3.7, 1.5, 0.4],\n",
              "       [5.9, 3.2, 4.8, 1.8],\n",
              "       [4.6, 3.1, 1.5, 0.2],\n",
              "       [5.8, 2.7, 5.1, 1.9],\n",
              "       [4.8, 3.1, 1.6, 0.2],\n",
              "       [6.5, 3. , 5.2, 2. ],\n",
              "       [4.9, 2.5, 4.5, 1.7],\n",
              "       [4.6, 3.2, 1.4, 0.2],\n",
              "       [6.4, 3.2, 5.3, 2.3],\n",
              "       [4.3, 3. , 1.1, 0.1],\n",
              "       [5.6, 3. , 4.1, 1.3],\n",
              "       [4.4, 2.9, 1.4, 0.2],\n",
              "       [5.5, 2.4, 3.7, 1. ],\n",
              "       [5. , 2. , 3.5, 1. ],\n",
              "       [5.1, 3.5, 1.4, 0.2],\n",
              "       [4.9, 3. , 1.4, 0.2],\n",
              "       [4.9, 2.4, 3.3, 1. ],\n",
              "       [4.6, 3.6, 1. , 0.2],\n",
              "       [5.9, 3. , 4.2, 1.5],\n",
              "       [6.1, 2.9, 4.7, 1.4],\n",
              "       [5. , 3.4, 1.5, 0.2],\n",
              "       [6.7, 3.1, 4.7, 1.5],\n",
              "       [5.7, 2.9, 4.2, 1.3],\n",
              "       [6.2, 2.2, 4.5, 1.5],\n",
              "       [7. , 3.2, 4.7, 1.4],\n",
              "       [5.8, 2.7, 5.1, 1.9],\n",
              "       [5.4, 3.4, 1.7, 0.2],\n",
              "       [5. , 3. , 1.6, 0.2],\n",
              "       [6.1, 2.6, 5.6, 1.4],\n",
              "       [6.1, 2.8, 4. , 1.3],\n",
              "       [7.2, 3. , 5.8, 1.6],\n",
              "       [5.7, 2.6, 3.5, 1. ],\n",
              "       [6.3, 2.8, 5.1, 1.5],\n",
              "       [6.4, 3.1, 5.5, 1.8],\n",
              "       [6.3, 2.5, 4.9, 1.5],\n",
              "       [6.7, 3.1, 5.6, 2.4],\n",
              "       [4.9, 3.1, 1.5, 0.1]])"
            ]
          },
          "metadata": {},
          "execution_count": 120
        }
      ]
    },
    {
      "cell_type": "code",
      "source": [
        "x_test"
      ],
      "metadata": {
        "colab": {
          "base_uri": "https://localhost:8080/"
        },
        "id": "xmOfZPSUMGu4",
        "outputId": "5cfc7a66-f90c-463d-fd2a-048482dcde82"
      },
      "execution_count": 121,
      "outputs": [
        {
          "output_type": "execute_result",
          "data": {
            "text/plain": [
              "array([[5.8, 4. , 1.2, 0.2],\n",
              "       [5.1, 2.5, 3. , 1.1],\n",
              "       [6.6, 3. , 4.4, 1.4],\n",
              "       [5.4, 3.9, 1.3, 0.4],\n",
              "       [7.9, 3.8, 6.4, 2. ],\n",
              "       [6.3, 3.3, 4.7, 1.6],\n",
              "       [6.9, 3.1, 5.1, 2.3],\n",
              "       [5.1, 3.8, 1.9, 0.4],\n",
              "       [4.7, 3.2, 1.6, 0.2],\n",
              "       [6.9, 3.2, 5.7, 2.3],\n",
              "       [5.6, 2.7, 4.2, 1.3],\n",
              "       [5.4, 3.9, 1.7, 0.4],\n",
              "       [7.1, 3. , 5.9, 2.1],\n",
              "       [6.4, 3.2, 4.5, 1.5],\n",
              "       [6. , 2.9, 4.5, 1.5],\n",
              "       [4.4, 3.2, 1.3, 0.2],\n",
              "       [5.8, 2.6, 4. , 1.2],\n",
              "       [5.6, 3. , 4.5, 1.5],\n",
              "       [5.4, 3.4, 1.5, 0.4],\n",
              "       [5. , 3.2, 1.2, 0.2],\n",
              "       [5.5, 2.6, 4.4, 1.2],\n",
              "       [5.4, 3. , 4.5, 1.5],\n",
              "       [6.7, 3. , 5. , 1.7],\n",
              "       [5. , 3.5, 1.3, 0.3],\n",
              "       [7.2, 3.2, 6. , 1.8],\n",
              "       [5.7, 2.8, 4.1, 1.3],\n",
              "       [5.5, 4.2, 1.4, 0.2],\n",
              "       [5.1, 3.8, 1.5, 0.3],\n",
              "       [6.1, 2.8, 4.7, 1.2],\n",
              "       [6.3, 2.5, 5. , 1.9],\n",
              "       [6.1, 3. , 4.6, 1.4],\n",
              "       [7.7, 3. , 6.1, 2.3],\n",
              "       [5.6, 2.5, 3.9, 1.1],\n",
              "       [6.4, 2.8, 5.6, 2.1],\n",
              "       [5.8, 2.8, 5.1, 2.4],\n",
              "       [5.3, 3.7, 1.5, 0.2],\n",
              "       [5.5, 2.3, 4. , 1.3],\n",
              "       [5.2, 3.4, 1.4, 0.2],\n",
              "       [6.5, 2.8, 4.6, 1.5],\n",
              "       [6.7, 2.5, 5.8, 1.8],\n",
              "       [6.8, 3. , 5.5, 2.1],\n",
              "       [5.1, 3.5, 1.4, 0.3],\n",
              "       [6. , 2.2, 5. , 1.5],\n",
              "       [6.3, 2.9, 5.6, 1.8],\n",
              "       [6.6, 2.9, 4.6, 1.3]])"
            ]
          },
          "metadata": {},
          "execution_count": 121
        }
      ]
    },
    {
      "cell_type": "code",
      "source": [
        "y_test"
      ],
      "metadata": {
        "colab": {
          "base_uri": "https://localhost:8080/"
        },
        "id": "ops5dVDUMLF8",
        "outputId": "7197e18a-2e5b-4b8f-b1d6-2272311cc130"
      },
      "execution_count": 122,
      "outputs": [
        {
          "output_type": "execute_result",
          "data": {
            "text/plain": [
              "14         Iris-setosa\n",
              "98     Iris-versicolor\n",
              "75     Iris-versicolor\n",
              "16         Iris-setosa\n",
              "131     Iris-virginica\n",
              "56     Iris-versicolor\n",
              "141     Iris-virginica\n",
              "44         Iris-setosa\n",
              "29         Iris-setosa\n",
              "120     Iris-virginica\n",
              "94     Iris-versicolor\n",
              "5          Iris-setosa\n",
              "102     Iris-virginica\n",
              "51     Iris-versicolor\n",
              "78     Iris-versicolor\n",
              "42         Iris-setosa\n",
              "92     Iris-versicolor\n",
              "66     Iris-versicolor\n",
              "31         Iris-setosa\n",
              "35         Iris-setosa\n",
              "90     Iris-versicolor\n",
              "84     Iris-versicolor\n",
              "77     Iris-versicolor\n",
              "40         Iris-setosa\n",
              "125     Iris-virginica\n",
              "99     Iris-versicolor\n",
              "33         Iris-setosa\n",
              "19         Iris-setosa\n",
              "73     Iris-versicolor\n",
              "146     Iris-virginica\n",
              "91     Iris-versicolor\n",
              "135     Iris-virginica\n",
              "69     Iris-versicolor\n",
              "128     Iris-virginica\n",
              "114     Iris-virginica\n",
              "48         Iris-setosa\n",
              "53     Iris-versicolor\n",
              "28         Iris-setosa\n",
              "54     Iris-versicolor\n",
              "108     Iris-virginica\n",
              "112     Iris-virginica\n",
              "17         Iris-setosa\n",
              "119     Iris-virginica\n",
              "103     Iris-virginica\n",
              "58     Iris-versicolor\n",
              "Name: Species, dtype: object"
            ]
          },
          "metadata": {},
          "execution_count": 122
        }
      ]
    },
    {
      "cell_type": "code",
      "source": [
        "y_train"
      ],
      "metadata": {
        "colab": {
          "base_uri": "https://localhost:8080/"
        },
        "id": "j3N2jhXeMPBX",
        "outputId": "561bce4c-016a-43df-e2f0-82f348f833a2"
      },
      "execution_count": 123,
      "outputs": [
        {
          "output_type": "execute_result",
          "data": {
            "text/plain": [
              "118     Iris-virginica\n",
              "18         Iris-setosa\n",
              "4          Iris-setosa\n",
              "45         Iris-setosa\n",
              "59     Iris-versicolor\n",
              "            ...       \n",
              "133     Iris-virginica\n",
              "137     Iris-virginica\n",
              "72     Iris-versicolor\n",
              "140     Iris-virginica\n",
              "37         Iris-setosa\n",
              "Name: Species, Length: 105, dtype: object"
            ]
          },
          "metadata": {},
          "execution_count": 123
        }
      ]
    },
    {
      "cell_type": "code",
      "source": [
        "from sklearn.preprocessing import StandardScaler\n",
        "scaler=StandardScaler()\n",
        "scaler.fit(x_train)\n",
        "x_train=scaler.fit_transform(x_train)\n",
        "x_test=scaler.fit_transform(x_test)\n",
        "x_train\n"
      ],
      "metadata": {
        "colab": {
          "base_uri": "https://localhost:8080/"
        },
        "id": "gtVlu_GIMyQb",
        "outputId": "51e597e1-4e44-48f7-89ad-6b9003d4f3de"
      },
      "execution_count": 124,
      "outputs": [
        {
          "output_type": "execute_result",
          "data": {
            "text/plain": [
              "array([[ 2.26050169e+00, -1.04854298e+00,  1.77691682e+00,\n",
              "         1.42261360e+00],\n",
              "       [-1.18973773e-01,  1.85511450e+00, -1.14624252e+00,\n",
              "        -1.13955497e+00],\n",
              "       [-9.51790185e-01,  1.37117159e+00, -1.31488633e+00,\n",
              "        -1.26766340e+00],\n",
              "       [-1.18973773e+00, -8.06571522e-02, -1.31488633e+00,\n",
              "        -1.13955497e+00],\n",
              "       [-7.13842639e-01, -8.06571522e-01,  9.04787416e-02,\n",
              "         2.69637740e-01],\n",
              "       [-8.32816412e-01,  8.87228675e-01, -1.25867172e+00,\n",
              "        -1.26766340e+00],\n",
              "       [-3.56921319e-01,  1.12920013e+00, -1.37110093e+00,\n",
              "        -1.26766340e+00],\n",
              "       [ 2.26050169e+00,  1.85511450e+00,  1.66448762e+00,\n",
              "         1.29450517e+00],\n",
              "       [ 1.30871150e+00,  1.61314304e-01,  9.33697783e-01,\n",
              "         1.16639674e+00],\n",
              "       [ 1.78460660e+00, -3.22628609e-01,  1.43962921e+00,\n",
              "         7.82071454e-01],\n",
              "       [ 7.13842639e-01, -5.64600066e-01,  1.04612699e+00,\n",
              "         1.29450517e+00],\n",
              "       [ 4.75895093e-01, -5.64600066e-01,  5.96410166e-01,\n",
              "         7.82071454e-01],\n",
              "       [ 2.37947546e-01,  8.87228675e-01,  4.27766358e-01,\n",
              "         5.25854597e-01],\n",
              "       [ 2.26050169e+00, -5.64600066e-01,  1.66448762e+00,\n",
              "         1.03828831e+00],\n",
              "       [-1.18973773e-01, -8.06571522e-02,  2.59122550e-01,\n",
              "         1.34208830e-02],\n",
              "       [-1.18973773e+00,  8.87228675e-01, -1.20245712e+00,\n",
              "        -1.26766340e+00],\n",
              "       [-1.18973773e-01, -1.29051444e+00,  7.08839372e-01,\n",
              "         1.03828831e+00],\n",
              "       [ 5.94868866e-01, -8.06571522e-01,  6.52624769e-01,\n",
              "         7.82071454e-01],\n",
              "       [-1.18973773e+00, -8.06571522e-02, -1.31488633e+00,\n",
              "        -1.39577183e+00],\n",
              "       [-1.30871150e+00,  4.03285761e-01, -1.37110093e+00,\n",
              "        -1.26766340e+00],\n",
              "       [ 8.32816412e-01, -8.06571522e-02,  1.15855619e+00,\n",
              "         1.29450517e+00],\n",
              "       [-1.42768528e+00,  8.87228675e-01, -1.31488633e+00,\n",
              "        -1.13955497e+00],\n",
              "       [ 3.56921319e-01, -8.06571522e-02,  6.52624769e-01,\n",
              "         7.82071454e-01],\n",
              "       [ 8.32816412e-01,  4.03285761e-01,  7.65053975e-01,\n",
              "         1.03828831e+00],\n",
              "       [ 1.07076396e+00,  1.61314304e-01,  3.71551755e-01,\n",
              "         2.69637740e-01],\n",
              "       [-1.18973773e-01, -5.64600066e-01,  4.27766358e-01,\n",
              "         1.41529311e-01],\n",
              "       [ 1.07076396e+00,  6.45257218e-01,  1.10234159e+00,\n",
              "         1.67883045e+00],\n",
              "       [ 2.37947546e-01, -8.06571522e-02,  5.96410166e-01,\n",
              "         7.82071454e-01],\n",
              "       [-8.32816412e-01,  1.85511450e+00, -1.20245712e+00,\n",
              "        -1.26766340e+00],\n",
              "       [ 2.37947546e-01, -2.01642881e+00,  1.46693344e-01,\n",
              "        -2.42795974e-01],\n",
              "       [ 7.13842639e-01, -3.22628609e-01,  3.15337153e-01,\n",
              "         1.41529311e-01],\n",
              "       [ 8.32816412e-01, -8.06571522e-02,  9.89912386e-01,\n",
              "         7.82071454e-01],\n",
              "       [-9.51790185e-01, -1.77445735e+00, -2.46808875e-01,\n",
              "        -2.42795974e-01],\n",
              "       [ 5.94868866e-01,  6.45257218e-01,  1.27098540e+00,\n",
              "         1.67883045e+00],\n",
              "       [-3.56921319e-01, -1.29051444e+00,  1.46693344e-01,\n",
              "         1.41529311e-01],\n",
              "       [-4.75895093e-01,  1.61314304e+00, -1.25867172e+00,\n",
              "        -1.26766340e+00],\n",
              "       [-1.07076396e+00,  1.61314304e-01, -1.25867172e+00,\n",
              "        -1.39577183e+00],\n",
              "       [-7.13842639e-01,  2.58102887e+00, -1.25867172e+00,\n",
              "        -1.39577183e+00],\n",
              "       [ 1.07076396e+00,  6.45257218e-01,  1.10234159e+00,\n",
              "         1.16639674e+00],\n",
              "       [-1.66563282e+00, -8.06571522e-02, -1.37110093e+00,\n",
              "        -1.26766340e+00],\n",
              "       [ 2.37947546e-01, -8.06571522e-01,  7.65053975e-01,\n",
              "         5.25854597e-01],\n",
              "       [ 7.13842639e-01, -8.06571522e-01,  8.77483180e-01,\n",
              "         9.10179882e-01],\n",
              "       [ 1.18973773e-01, -8.06571522e-02,  7.65053975e-01,\n",
              "         7.82071454e-01],\n",
              "       [-7.13842639e-01,  1.12920013e+00, -1.25867172e+00,\n",
              "        -1.26766340e+00],\n",
              "       [-8.32816412e-01,  6.45257218e-01, -1.14624252e+00,\n",
              "        -8.83338116e-01],\n",
              "       [-1.05669938e-15, -8.06571522e-01,  2.02907947e-01,\n",
              "        -2.42795974e-01],\n",
              "       [-1.07076396e+00,  1.61314304e-01, -1.25867172e+00,\n",
              "        -1.39577183e+00],\n",
              "       [ 1.90358037e+00, -5.64600066e-01,  1.32720000e+00,\n",
              "         9.10179882e-01],\n",
              "       [ 4.75895093e-01, -3.22628609e-01,  3.15337153e-01,\n",
              "         1.41529311e-01],\n",
              "       [ 2.14152792e+00, -8.06571522e-02,  1.60827302e+00,\n",
              "         1.16639674e+00],\n",
              "       [ 1.07076396e+00, -8.06571522e-02,  8.21268577e-01,\n",
              "         1.42261360e+00],\n",
              "       [ 5.94868866e-01, -1.77445735e+00,  3.71551755e-01,\n",
              "         1.41529311e-01],\n",
              "       [ 4.75895093e-01,  8.87228675e-01,  9.33697783e-01,\n",
              "         1.42261360e+00],\n",
              "       [ 1.66563282e+00,  1.37117159e+00,  1.32720000e+00,\n",
              "         1.67883045e+00],\n",
              "       [-2.37947546e-01, -3.22628609e-01, -7.81650667e-02,\n",
              "         1.41529311e-01],\n",
              "       [-1.18973773e-01,  3.30694324e+00, -1.25867172e+00,\n",
              "        -1.01144654e+00],\n",
              "       [-1.05669938e-15, -8.06571522e-01,  9.04787416e-02,\n",
              "         1.34208830e-02],\n",
              "       [-1.54665905e+00, -1.77445735e+00, -1.37110093e+00,\n",
              "        -1.13955497e+00],\n",
              "       [-3.56921319e-01, -1.53248589e+00,  3.42641388e-02,\n",
              "        -1.14687545e-01],\n",
              "       [ 1.30871150e+00,  1.61314304e-01,  6.52624769e-01,\n",
              "         3.97746168e-01],\n",
              "       [-9.51790185e-01,  8.87228675e-01, -1.20245712e+00,\n",
              "        -1.01144654e+00],\n",
              "       [ 1.18973773e+00, -5.64600066e-01,  5.96410166e-01,\n",
              "         2.69637740e-01],\n",
              "       [-9.51790185e-01,  1.12920013e+00, -1.20245712e+00,\n",
              "        -7.55229688e-01],\n",
              "       [-1.18973773e+00,  8.87228675e-01, -1.03381331e+00,\n",
              "        -1.26766340e+00],\n",
              "       [ 5.94868866e-01,  8.87228675e-01,  1.04612699e+00,\n",
              "         1.55072202e+00],\n",
              "       [-2.37947546e-01, -5.64600066e-01,  6.52624769e-01,\n",
              "         1.03828831e+00],\n",
              "       [ 1.18973773e+00,  4.03285761e-01,  1.21477080e+00,\n",
              "         1.42261360e+00],\n",
              "       [-9.51790185e-01,  6.45257218e-01, -1.31488633e+00,\n",
              "        -1.26766340e+00],\n",
              "       [-8.32816412e-01,  1.61314304e+00, -1.25867172e+00,\n",
              "        -1.01144654e+00],\n",
              "       [ 1.18973773e-01,  4.03285761e-01,  5.96410166e-01,\n",
              "         7.82071454e-01],\n",
              "       [-1.42768528e+00,  1.61314304e-01, -1.25867172e+00,\n",
              "        -1.26766340e+00],\n",
              "       [-1.05669938e-15, -8.06571522e-01,  7.65053975e-01,\n",
              "         9.10179882e-01],\n",
              "       [-1.18973773e+00,  1.61314304e-01, -1.20245712e+00,\n",
              "        -1.26766340e+00],\n",
              "       [ 8.32816412e-01, -8.06571522e-02,  8.21268577e-01,\n",
              "         1.03828831e+00],\n",
              "       [-1.07076396e+00, -1.29051444e+00,  4.27766358e-01,\n",
              "         6.53963025e-01],\n",
              "       [-1.42768528e+00,  4.03285761e-01, -1.31488633e+00,\n",
              "        -1.26766340e+00],\n",
              "       [ 7.13842639e-01,  4.03285761e-01,  8.77483180e-01,\n",
              "         1.42261360e+00],\n",
              "       [-1.78460660e+00, -8.06571522e-02, -1.48353014e+00,\n",
              "        -1.39577183e+00],\n",
              "       [-2.37947546e-01, -8.06571522e-02,  2.02907947e-01,\n",
              "         1.41529311e-01],\n",
              "       [-1.66563282e+00, -3.22628609e-01, -1.31488633e+00,\n",
              "        -1.26766340e+00],\n",
              "       [-3.56921319e-01, -1.53248589e+00, -2.19504639e-02,\n",
              "        -2.42795974e-01],\n",
              "       [-9.51790185e-01, -2.50037172e+00, -1.34379669e-01,\n",
              "        -2.42795974e-01],\n",
              "       [-8.32816412e-01,  1.12920013e+00, -1.31488633e+00,\n",
              "        -1.26766340e+00],\n",
              "       [-1.07076396e+00, -8.06571522e-02, -1.31488633e+00,\n",
              "        -1.26766340e+00],\n",
              "       [-1.07076396e+00, -1.53248589e+00, -2.46808875e-01,\n",
              "        -2.42795974e-01],\n",
              "       [-1.42768528e+00,  1.37117159e+00, -1.53974474e+00,\n",
              "        -1.26766340e+00],\n",
              "       [ 1.18973773e-01, -8.06571522e-02,  2.59122550e-01,\n",
              "         3.97746168e-01],\n",
              "       [ 3.56921319e-01, -3.22628609e-01,  5.40195564e-01,\n",
              "         2.69637740e-01],\n",
              "       [-9.51790185e-01,  8.87228675e-01, -1.25867172e+00,\n",
              "        -1.26766340e+00],\n",
              "       [ 1.07076396e+00,  1.61314304e-01,  5.40195564e-01,\n",
              "         3.97746168e-01],\n",
              "       [-1.18973773e-01, -3.22628609e-01,  2.59122550e-01,\n",
              "         1.41529311e-01],\n",
              "       [ 4.75895093e-01, -2.01642881e+00,  4.27766358e-01,\n",
              "         3.97746168e-01],\n",
              "       [ 1.42768528e+00,  4.03285761e-01,  5.40195564e-01,\n",
              "         2.69637740e-01],\n",
              "       [-1.05669938e-15, -8.06571522e-01,  7.65053975e-01,\n",
              "         9.10179882e-01],\n",
              "       [-4.75895093e-01,  8.87228675e-01, -1.14624252e+00,\n",
              "        -1.26766340e+00],\n",
              "       [-9.51790185e-01, -8.06571522e-02, -1.20245712e+00,\n",
              "        -1.26766340e+00],\n",
              "       [ 3.56921319e-01, -1.04854298e+00,  1.04612699e+00,\n",
              "         2.69637740e-01],\n",
              "       [ 3.56921319e-01, -5.64600066e-01,  1.46693344e-01,\n",
              "         1.41529311e-01],\n",
              "       [ 1.66563282e+00, -8.06571522e-02,  1.15855619e+00,\n",
              "         5.25854597e-01],\n",
              "       [-1.18973773e-01, -1.04854298e+00, -1.34379669e-01,\n",
              "        -2.42795974e-01],\n",
              "       [ 5.94868866e-01, -5.64600066e-01,  7.65053975e-01,\n",
              "         3.97746168e-01],\n",
              "       [ 7.13842639e-01,  1.61314304e-01,  9.89912386e-01,\n",
              "         7.82071454e-01],\n",
              "       [ 5.94868866e-01, -1.29051444e+00,  6.52624769e-01,\n",
              "         3.97746168e-01],\n",
              "       [ 1.07076396e+00,  1.61314304e-01,  1.04612699e+00,\n",
              "         1.55072202e+00],\n",
              "       [-1.07076396e+00,  1.61314304e-01, -1.25867172e+00,\n",
              "        -1.39577183e+00]])"
            ]
          },
          "metadata": {},
          "execution_count": 124
        }
      ]
    },
    {
      "cell_type": "code",
      "source": [
        "x_test"
      ],
      "metadata": {
        "colab": {
          "base_uri": "https://localhost:8080/"
        },
        "id": "FrTyq6eqM1BU",
        "outputId": "84b2a082-0c9f-425f-b220-7fff625d286d"
      },
      "execution_count": 125,
      "outputs": [
        {
          "output_type": "execute_result",
          "data": {
            "text/plain": [
              "array([[-0.18534397,  1.91119651, -1.52379312, -1.433857  ],\n",
              "       [-1.08354935, -1.28201548, -0.47065965, -0.16868906],\n",
              "       [ 0.84117647, -0.21761148,  0.34844416,  0.25303359],\n",
              "       [-0.69860419,  1.69831571, -1.46528571, -1.15270857],\n",
              "       [ 2.50927218,  1.48543491,  1.51859246,  1.09647888],\n",
              "       [ 0.45623131,  0.42103091,  0.52396641,  0.53418202],\n",
              "       [ 1.22612163, -0.00473068,  0.75799607,  1.51820153],\n",
              "       [-1.08354935,  1.48543491, -1.11424122, -1.15270857],\n",
              "       [-1.59680957,  0.20815011, -1.28976346, -1.433857  ],\n",
              "       [ 1.22612163,  0.20815011,  1.10904056,  1.51820153],\n",
              "       [-0.44197408, -0.85625388,  0.23142933,  0.11245937],\n",
              "       [-0.69860419,  1.69831571, -1.23125605, -1.15270857],\n",
              "       [ 1.48275174, -0.21761148,  1.22605539,  1.2370531 ],\n",
              "       [ 0.58454636,  0.20815011,  0.40695158,  0.3936078 ],\n",
              "       [ 0.07128614, -0.43049228,  0.40695158,  0.3936078 ],\n",
              "       [-1.98175473,  0.20815011, -1.46528571, -1.433857  ],\n",
              "       [-0.18534397, -1.06913468,  0.1144145 , -0.02811484],\n",
              "       [-0.44197408, -0.21761148,  0.40695158,  0.3936078 ],\n",
              "       [-0.69860419,  0.63391171, -1.34827088, -1.15270857],\n",
              "       [-1.2118644 ,  0.20815011, -1.52379312, -1.433857  ],\n",
              "       [-0.57028913, -1.06913468,  0.34844416, -0.02811484],\n",
              "       [-0.69860419, -0.21761148,  0.40695158,  0.3936078 ],\n",
              "       [ 0.96949152, -0.21761148,  0.69948865,  0.67475624],\n",
              "       [-1.2118644 ,  0.84679251, -1.46528571, -1.29328278],\n",
              "       [ 1.6110668 ,  0.20815011,  1.2845628 ,  0.81533045],\n",
              "       [-0.31365902, -0.64337308,  0.17292192,  0.11245937],\n",
              "       [-0.57028913,  2.33695811, -1.40677829, -1.433857  ],\n",
              "       [-1.08354935,  1.48543491, -1.34827088, -1.29328278],\n",
              "       [ 0.1996012 , -0.64337308,  0.52396641, -0.02811484],\n",
              "       [ 0.45623131, -1.28201548,  0.69948865,  0.95590467],\n",
              "       [ 0.1996012 , -0.21761148,  0.46545899,  0.25303359],\n",
              "       [ 2.25264207, -0.21761148,  1.34307022,  1.51820153],\n",
              "       [-0.44197408, -1.28201548,  0.05590709, -0.16868906],\n",
              "       [ 0.58454636, -0.64337308,  1.05053314,  1.2370531 ],\n",
              "       [-0.18534397, -0.64337308,  0.75799607,  1.65877575],\n",
              "       [-0.82691924,  1.27255411, -1.34827088, -1.433857  ],\n",
              "       [-0.57028913, -1.70777708,  0.1144145 ,  0.11245937],\n",
              "       [-0.9552343 ,  0.63391171, -1.40677829, -1.433857  ],\n",
              "       [ 0.71286141, -0.64337308,  0.46545899,  0.3936078 ],\n",
              "       [ 0.96949152, -1.28201548,  1.16754797,  0.81533045],\n",
              "       [ 1.09780658, -0.21761148,  0.99202573,  1.2370531 ],\n",
              "       [-1.08354935,  0.84679251, -1.40677829, -1.29328278],\n",
              "       [ 0.07128614, -1.92065788,  0.69948865,  0.3936078 ],\n",
              "       [ 0.45623131, -0.43049228,  1.05053314,  0.81533045],\n",
              "       [ 0.84117647, -0.43049228,  0.46545899,  0.11245937]])"
            ]
          },
          "metadata": {},
          "execution_count": 125
        }
      ]
    },
    {
      "cell_type": "code",
      "source": [
        "from sklearn.naive_bayes import GaussianNB\n",
        "model=GaussianNB()\n",
        "model.fit(x_train,y_train)\n",
        "y_pred=model.predict(x_test)\n",
        "y_pred"
      ],
      "metadata": {
        "colab": {
          "base_uri": "https://localhost:8080/"
        },
        "id": "XQnqGR2sKBUA",
        "outputId": "0356b0c8-e336-451b-d59a-7e5f0899a72c"
      },
      "execution_count": 126,
      "outputs": [
        {
          "output_type": "execute_result",
          "data": {
            "text/plain": [
              "array(['Iris-setosa', 'Iris-versicolor', 'Iris-versicolor', 'Iris-setosa',\n",
              "       'Iris-virginica', 'Iris-versicolor', 'Iris-virginica',\n",
              "       'Iris-setosa', 'Iris-setosa', 'Iris-virginica', 'Iris-versicolor',\n",
              "       'Iris-setosa', 'Iris-virginica', 'Iris-versicolor',\n",
              "       'Iris-versicolor', 'Iris-setosa', 'Iris-versicolor',\n",
              "       'Iris-versicolor', 'Iris-setosa', 'Iris-setosa', 'Iris-versicolor',\n",
              "       'Iris-versicolor', 'Iris-virginica', 'Iris-setosa',\n",
              "       'Iris-virginica', 'Iris-versicolor', 'Iris-setosa', 'Iris-setosa',\n",
              "       'Iris-versicolor', 'Iris-virginica', 'Iris-versicolor',\n",
              "       'Iris-virginica', 'Iris-versicolor', 'Iris-virginica',\n",
              "       'Iris-virginica', 'Iris-setosa', 'Iris-versicolor', 'Iris-setosa',\n",
              "       'Iris-versicolor', 'Iris-virginica', 'Iris-virginica',\n",
              "       'Iris-setosa', 'Iris-versicolor', 'Iris-virginica',\n",
              "       'Iris-versicolor'], dtype='<U15')"
            ]
          },
          "metadata": {},
          "execution_count": 126
        }
      ]
    },
    {
      "cell_type": "code",
      "source": [
        "pred=model.predict(scaler.transform([[5,3,1,.2]]))\n",
        "print(pred)"
      ],
      "metadata": {
        "colab": {
          "base_uri": "https://localhost:8080/"
        },
        "id": "TmP1y20qydAp",
        "outputId": "544781bb-666a-4b51-a641-a602dc34fc12"
      },
      "execution_count": 127,
      "outputs": [
        {
          "output_type": "stream",
          "name": "stdout",
          "text": [
            "['Iris-setosa']\n"
          ]
        }
      ]
    },
    {
      "cell_type": "code",
      "source": [
        "from sklearn.metrics import confusion_matrix,accuracy_score,ConfusionMatrixDisplay\n",
        "result=confusion_matrix(y_test,y_pred)\n",
        "labels=['Irs-setosa','irs-versicolor','Irs-virginica']\n",
        "cmd=ConfusionMatrixDisplay(result,display_labels=labels)\n",
        "cmd.plot()"
      ],
      "metadata": {
        "colab": {
          "base_uri": "https://localhost:8080/",
          "height": 296
        },
        "id": "UTuLOCrvyhbM",
        "outputId": "893bad8b-33be-4003-9460-466fcd16860e"
      },
      "execution_count": 128,
      "outputs": [
        {
          "output_type": "execute_result",
          "data": {
            "text/plain": [
              "<sklearn.metrics._plot.confusion_matrix.ConfusionMatrixDisplay at 0x7f7d215d2dc0>"
            ]
          },
          "metadata": {},
          "execution_count": 128
        },
        {
          "output_type": "display_data",
          "data": {
            "text/plain": [
              "<Figure size 432x288 with 2 Axes>"
            ],
            "image/png": "[encoded data removed]"
          },
          "metadata": {
            "needs_background": "light"
          }
        }
      ]
    },
    {
      "cell_type": "code",
      "source": [
        "result"
      ],
      "metadata": {
        "colab": {
          "base_uri": "https://localhost:8080/"
        },
        "id": "UkfiGwS3yqgK",
        "outputId": "d151c757-161b-448c-bd75-5e6f2865b5f8"
      },
      "execution_count": 129,
      "outputs": [
        {
          "output_type": "execute_result",
          "data": {
            "text/plain": [
              "array([[14,  0,  0],\n",
              "       [ 0, 17,  1],\n",
              "       [ 0,  1, 12]])"
            ]
          },
          "metadata": {},
          "execution_count": 129
        }
      ]
    },
    {
      "cell_type": "code",
      "source": [
        "score=accuracy_score(y_test,y_pred)\n",
        "score"
      ],
      "metadata": {
        "colab": {
          "base_uri": "https://localhost:8080/"
        },
        "id": "oBU76G6Ny90H",
        "outputId": "a2eb7d8b-b24c-4aa4-a282-43affcf27133"
      },
      "execution_count": 130,
      "outputs": [
        {
          "output_type": "execute_result",
          "data": {
            "text/plain": [
              "0.9555555555555556"
            ]
          },
          "metadata": {},
          "execution_count": 130
        }
      ]
    }
  ]
}